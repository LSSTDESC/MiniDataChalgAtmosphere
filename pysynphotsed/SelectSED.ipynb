{
 "cells": [
  {
   "cell_type": "markdown",
   "metadata": {},
   "source": [
    "# Select good SED in the catalog"
   ]
  },
  {
   "cell_type": "code",
   "execution_count": 34,
   "metadata": {},
   "outputs": [],
   "source": [
    "import pandas as pd\n",
    "import numpy as np\n",
    "import os\n",
    "import matplotlib.pyplot as plt\n",
    "from astropy.io import fits\n",
    "\n",
    "%matplotlib inline\n",
    "from IPython.display import Image, display\n",
    "from PIL import Image\n",
    "from scipy.interpolate import interp1d"
   ]
  },
  {
   "cell_type": "code",
   "execution_count": 35,
   "metadata": {},
   "outputs": [],
   "source": [
    "# to enlarge the sizes\n",
    "params = {'legend.fontsize': 'x-large',\n",
    "          'figure.figsize': (10, 6),\n",
    "         'axes.labelsize': 'x-large',\n",
    "         'axes.titlesize':'x-large',\n",
    "         'xtick.labelsize':'x-large',\n",
    "         'ytick.labelsize':'x-large'}\n",
    "plt.rcParams.update(params)"
   ]
  },
  {
   "cell_type": "code",
   "execution_count": 36,
   "metadata": {},
   "outputs": [],
   "source": [
    "index_num=0  # index of counts\n",
    "index_val=1  # index validity flag\n",
    "index_temp=2\n",
    "index_logg=3\n",
    "index_logz=4\n",
    "index_spec=5"
   ]
  },
  {
   "cell_type": "markdown",
   "metadata": {},
   "source": [
    "## Number of good SED to select"
   ]
  },
  {
   "cell_type": "code",
   "execution_count": 37,
   "metadata": {},
   "outputs": [],
   "source": [
    "NumberOfSEDToSelect=1000"
   ]
  },
  {
   "cell_type": "code",
   "execution_count": 38,
   "metadata": {},
   "outputs": [],
   "source": [
    "#input_fits='sedgrid_phoenixmodels_good.fits'\n",
    "#input_fits='sedgrid_phoenixmodels_noextinct.fits'\n",
    "input_fits='sedgrid_phoenixmodels_all.fits'\n",
    "output_fits='sedgrid_phoenixmodels_selected1000.fits'"
   ]
  },
  {
   "cell_type": "code",
   "execution_count": 39,
   "metadata": {},
   "outputs": [],
   "source": [
    "hdul = fits.open(input_fits)"
   ]
  },
  {
   "cell_type": "code",
   "execution_count": 40,
   "metadata": {},
   "outputs": [
    {
     "name": "stdout",
     "output_type": "stream",
     "text": [
      "Filename: sedgrid_phoenixmodels_all.fits\n",
      "No.    Name      Ver    Type      Cards   Dimensions   Format\n",
      "  0  PRIMARY       1 PrimaryHDU      23   (8005, 22081)   float64   \n"
     ]
    }
   ],
   "source": [
    "hdul.info()"
   ]
  },
  {
   "cell_type": "code",
   "execution_count": 41,
   "metadata": {},
   "outputs": [
    {
     "data": {
      "text/plain": [
       "SIMPLE  =                    T / conforms to FITS standard                      \n",
       "BITPIX  =                  -64 / array data type                                \n",
       "NAXIS   =                    2 / number of array dimensions                     \n",
       "NAXIS1  =                 8005                                                  \n",
       "NAXIS2  =                22081                                                  \n",
       "NBSED   =                22080                                                  \n",
       "NBWLBIN =                 8000                                                  \n",
       "WLMIN   =               3000.0                                                  \n",
       "WLMAX   =              11000.0                                                  \n",
       "WLBINWDT=                  1.0                                                  \n",
       "SEDMODEL= 'phoenix '                                                            \n",
       "TMIN    =               4000.0                                                  \n",
       "TMAX    =              50000.0                                                  \n",
       "TSTEP   =                100.0                                                  \n",
       "LOGZ    = '[-2.5 -2.  -1.5 -1.  -0.5  0.   0.2  0.5]'                           \n",
       "LOGG    = '[ 0.  1.  2.  3.  4.  5.]'                                           \n",
       "IDX_NUM =                    0                                                  \n",
       "IDX_VAL =                    1                                                  \n",
       "IDX_TEMP=                    2                                                  \n",
       "IDX_LOGG=                    3                                                  \n",
       "IDX_LOGZ=                    4                                                  \n",
       "IDX_SPEC=                    5                                                  \n",
       "IDX_MAG =                 8005                                                  "
      ]
     },
     "execution_count": 41,
     "metadata": {},
     "output_type": "execute_result"
    }
   ],
   "source": [
    "hdr=hdul[0].header\n",
    "hdr"
   ]
  },
  {
   "cell_type": "code",
   "execution_count": 42,
   "metadata": {},
   "outputs": [],
   "source": [
    "index_num=hdr[\"IDX_NUM\"]\n",
    "index_val=hdr[\"IDX_VAL\"]\n",
    "index_temp=hdr[\"IDX_TEMP\"]\n",
    "index_logg=hdr[\"IDX_LOGG\"]\n",
    "index_logz=hdr[\"IDX_LOGZ\"]\n",
    "index_spec=hdr[\"IDX_SPEC\"]\n",
    "index_mag=hdr[\"IDX_MAG\"]"
   ]
  },
  {
   "cell_type": "markdown",
   "metadata": {},
   "source": [
    "# Image"
   ]
  },
  {
   "cell_type": "code",
   "execution_count": 43,
   "metadata": {},
   "outputs": [],
   "source": [
    "def plot_sedimg(data):\n",
    "    plt.figure(figsize=(15,10))   \n",
    "    img=plt.imshow(data[1:,index_spec:],origin='lower',cmap='jet')\n",
    "    plt.colorbar(img)\n",
    "    plt.grid(True)\n",
    "    plt.title('sed grid')\n",
    "    plt.xlabel('bin number of wavelengths')\n",
    "    plt.ylabel('sed number')\n",
    "    plt.show()"
   ]
  },
  {
   "cell_type": "code",
   "execution_count": 44,
   "metadata": {},
   "outputs": [],
   "source": [
    "def plot_allsed(data):\n",
    "    plt.figure()   \n",
    "    \n",
    "    for idx in np.arange(data.shape[0]-1):\n",
    "        if data[1+idx,index_val]>0:\n",
    "            plt.semilogy(data[0,index_spec:],data[1+idx,index_spec:],'-')\n",
    "    plt.grid(True)\n",
    "    plt.title('sed')\n",
    "    plt.xlabel('wavelength (A)')\n",
    "    plt.ylabel('sed (flam)')\n",
    "    plt.show()"
   ]
  },
  {
   "cell_type": "code",
   "execution_count": 45,
   "metadata": {},
   "outputs": [],
   "source": [
    "data = hdul[0].data"
   ]
  },
  {
   "cell_type": "markdown",
   "metadata": {},
   "source": [
    "# Show all spectra"
   ]
  },
  {
   "cell_type": "code",
   "execution_count": null,
   "metadata": {},
   "outputs": [
    {
     "data": {
      "image/png": "[encoded data removed]",
      "text/plain": [
       "<Figure size 1080x720 with 2 Axes>"
      ]
     },
     "metadata": {},
     "output_type": "display_data"
    }
   ],
   "source": [
    "plot_sedimg(data)"
   ]
  },
  {
   "cell_type": "code",
   "execution_count": null,
   "metadata": {},
   "outputs": [],
   "source": [
    "plot_allsed(data)"
   ]
  },
  {
   "cell_type": "markdown",
   "metadata": {},
   "source": [
    "# Show wavelength range"
   ]
  },
  {
   "cell_type": "code",
   "execution_count": null,
   "metadata": {},
   "outputs": [],
   "source": [
    "plt.plot(data[0,index_spec:])\n",
    "plt.grid()\n",
    "plt.ylabel(\"$\\lambda$\")\n",
    "plt.xlabel(\"Wavelength index\")"
   ]
  },
  {
   "cell_type": "markdown",
   "metadata": {},
   "source": [
    "# Show good and bad indexes "
   ]
  },
  {
   "cell_type": "markdown",
   "metadata": {},
   "source": [
    "## Good indexes"
   ]
  },
  {
   "cell_type": "code",
   "execution_count": null,
   "metadata": {},
   "outputs": [],
   "source": [
    "good_indexes=np.where(data[0:,index_val]>0)[0]"
   ]
  },
  {
   "cell_type": "code",
   "execution_count": null,
   "metadata": {},
   "outputs": [],
   "source": [
    "good_indexes"
   ]
  },
  {
   "cell_type": "markdown",
   "metadata": {},
   "source": [
    "## Bad indexes"
   ]
  },
  {
   "cell_type": "code",
   "execution_count": null,
   "metadata": {},
   "outputs": [],
   "source": [
    "bad_indexes=np.where(data[0:,index_val]<=0)[0]"
   ]
  },
  {
   "cell_type": "markdown",
   "metadata": {},
   "source": [
    "# Select good indexes"
   ]
  },
  {
   "cell_type": "code",
   "execution_count": null,
   "metadata": {},
   "outputs": [],
   "source": [
    "good_image=data[good_indexes,:]"
   ]
  },
  {
   "cell_type": "code",
   "execution_count": null,
   "metadata": {},
   "outputs": [],
   "source": [
    "good_image.shape"
   ]
  },
  {
   "cell_type": "code",
   "execution_count": null,
   "metadata": {},
   "outputs": [],
   "source": [
    "plot_sedimg(good_image)"
   ]
  },
  {
   "cell_type": "code",
   "execution_count": null,
   "metadata": {},
   "outputs": [],
   "source": [
    "plot_allsed(good_image)"
   ]
  },
  {
   "cell_type": "markdown",
   "metadata": {},
   "source": [
    "# Creation of output table"
   ]
  },
  {
   "cell_type": "code",
   "execution_count": null,
   "metadata": {},
   "outputs": [],
   "source": [
    "data_out=np.zeros((NumberOfSEDToSelect+1,data.shape[1]))"
   ]
  },
  {
   "cell_type": "code",
   "execution_count": null,
   "metadata": {},
   "outputs": [],
   "source": [
    "data_out[0,index_spec:]=data[0,index_spec:]"
   ]
  },
  {
   "cell_type": "code",
   "execution_count": null,
   "metadata": {},
   "outputs": [],
   "source": [
    "count=0\n",
    "while count<NumberOfSEDToSelect:\n",
    "    ridx=np.random.randint(1,data.shape[0]+1,1)[0]\n",
    "    if ridx in good_indexes:\n",
    "        #print ridx\n",
    "        count+=1\n",
    "        data_out[count,:]=data[ridx,:]"
   ]
  },
  {
   "cell_type": "code",
   "execution_count": null,
   "metadata": {},
   "outputs": [],
   "source": [
    "plot_sedimg(data_out)"
   ]
  },
  {
   "cell_type": "code",
   "execution_count": null,
   "metadata": {},
   "outputs": [],
   "source": [
    "plot_allsed(data_out)"
   ]
  },
  {
   "cell_type": "code",
   "execution_count": null,
   "metadata": {},
   "outputs": [],
   "source": [
    "plt.hist(data_out[1:,index_temp],bins=100);\n",
    "plt.grid()\n",
    "plt.title('temperature distribution for good indexes')\n",
    "plt.xlabel('temperature')"
   ]
  },
  {
   "cell_type": "code",
   "execution_count": null,
   "metadata": {},
   "outputs": [],
   "source": [
    "plt.hist(data_out[1:,index_logg],bins=20);\n",
    "plt.grid()\n",
    "plt.title('Gravity for good indexes')\n",
    "plt.xlabel('log(G)')"
   ]
  },
  {
   "cell_type": "code",
   "execution_count": null,
   "metadata": {},
   "outputs": [],
   "source": [
    "plt.hist(data_out[1:,index_logg],bins=20);\n",
    "plt.grid()\n",
    "plt.title('Metalicity for good indexes')\n",
    "plt.xlabel('log(Z)')"
   ]
  },
  {
   "cell_type": "code",
   "execution_count": null,
   "metadata": {},
   "outputs": [],
   "source": [
    "hdu = fits.PrimaryHDU(data_out,header=hdul[0].header)\n",
    "hdu.writeto(output_fits,overwrite=True)"
   ]
  }
 ],
 "metadata": {
  "kernelspec": {
   "display_name": "Python 2",
   "language": "python",
   "name": "python2"
  },
  "language_info": {
   "codemirror_mode": {
    "name": "ipython",
    "version": 2
   },
   "file_extension": ".py",
   "mimetype": "text/x-python",
   "name": "python",
   "nbconvert_exporter": "python",
   "pygments_lexer": "ipython2",
   "version": "2.7.14"
  },
  "toc": {
   "nav_menu": {},
   "number_sections": true,
   "sideBar": true,
   "skip_h1_title": false,
   "toc_cell": false,
   "toc_position": {},
   "toc_section_display": "block",
   "toc_window_display": false
  }
 },
 "nbformat": 4,
 "nbformat_minor": 2
}
