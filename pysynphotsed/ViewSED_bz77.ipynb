{
 "cells": [
  {
   "cell_type": "markdown",
   "metadata": {},
   "source": [
    "# The purpose is to show the bz77"
   ]
  },
  {
   "cell_type": "markdown",
   "metadata": {},
   "source": [
    "## Definitions of the libraries"
   ]
  },
  {
   "cell_type": "code",
   "execution_count": 1,
   "metadata": {
    "collapsed": true
   },
   "outputs": [],
   "source": [
    "import numpy as np\n",
    "# Set up matplotlib and use a nicer set of plot parameters\n",
    "import matplotlib\n",
    "import matplotlib.pyplot as plt\n",
    "%matplotlib inline"
   ]
  },
  {
   "cell_type": "code",
   "execution_count": 2,
   "metadata": {
    "collapsed": true
   },
   "outputs": [],
   "source": [
    "import astropy\n",
    "from astropy.io import fits\n",
    "from astropy.coordinates import SkyCoord, EarthLocation, AltAz"
   ]
  },
  {
   "cell_type": "code",
   "execution_count": 3,
   "metadata": {
    "collapsed": true
   },
   "outputs": [],
   "source": [
    "import pandas as pd\n",
    "import os\n",
    "import re"
   ]
  },
  {
   "cell_type": "code",
   "execution_count": 4,
   "metadata": {
    "collapsed": true
   },
   "outputs": [],
   "source": [
    "from astroquery.simbad import Simbad"
   ]
  },
  {
   "cell_type": "code",
   "execution_count": 5,
   "metadata": {
    "collapsed": true
   },
   "outputs": [],
   "source": [
    "# to enlarge the sizes\n",
    "params = {'legend.fontsize': 'x-large',\n",
    "          'figure.figsize': (15, 8),\n",
    "         'axes.labelsize': 'x-large',\n",
    "         'axes.titlesize':'x-large',\n",
    "         'xtick.labelsize':'x-large',\n",
    "         'ytick.labelsize':'x-large'}\n",
    "plt.rcParams.update(params)"
   ]
  },
  {
   "cell_type": "code",
   "execution_count": 6,
   "metadata": {
    "collapsed": true
   },
   "outputs": [],
   "source": [
    "top_pysynphot_data_dir=os.environ['PYSYN_CDBS']"
   ]
  },
  {
   "cell_type": "code",
   "execution_count": 7,
   "metadata": {
    "collapsed": true
   },
   "outputs": [],
   "source": [
    "import pysynphot as S\n",
    "S.primary_area=6*1e4\n",
    "S.binning=10."
   ]
  },
  {
   "cell_type": "markdown",
   "metadata": {},
   "source": [
    "## Defines where are the data"
   ]
  },
  {
   "cell_type": "code",
   "execution_count": 8,
   "metadata": {
    "collapsed": true
   },
   "outputs": [],
   "source": [
    "dir_star='calspec'\n",
    "dir_nostar='grid'"
   ]
  },
  {
   "cell_type": "code",
   "execution_count": 9,
   "metadata": {
    "collapsed": true
   },
   "outputs": [],
   "source": [
    "dir_submodels=['agn','bpgs','extinction','jacobi','phoenix','bc95','bz77','galactic','k93models','pickles','bkmodels','ck04models','gunnstryker','kc96']"
   ]
  },
  {
   "cell_type": "markdown",
   "metadata": {},
   "source": [
    "## where are the files"
   ]
  },
  {
   "cell_type": "code",
   "execution_count": 10,
   "metadata": {
    "collapsed": true
   },
   "outputs": [],
   "source": [
    "SEDfile_dir=os.path.join(top_pysynphot_data_dir,dir_nostar,dir_submodels[6])"
   ]
  },
  {
   "cell_type": "code",
   "execution_count": 11,
   "metadata": {
    "collapsed": true
   },
   "outputs": [],
   "source": [
    "filelist=os.listdir(SEDfile_dir) "
   ]
  },
  {
   "cell_type": "code",
   "execution_count": 12,
   "metadata": {
    "collapsed": true
   },
   "outputs": [],
   "source": [
    "fits_files = [f for f in os.listdir(SEDfile_dir) if f.endswith('.fits')]"
   ]
  },
  {
   "cell_type": "code",
   "execution_count": 13,
   "metadata": {
    "collapsed": true
   },
   "outputs": [],
   "source": [
    "fits_files.remove('bzspectype.fits')"
   ]
  },
  {
   "cell_type": "markdown",
   "metadata": {},
   "source": [
    "## Find the star-names in the files"
   ]
  },
  {
   "cell_type": "code",
   "execution_count": 14,
   "metadata": {
    "collapsed": true
   },
   "outputs": [],
   "source": [
    "obj_headers = []\n",
    "obj_files = []\n",
    "for filename in fits_files:\n",
    "    index=0\n",
    "    if re.search('fits',filename):  #example of filename filter\n",
    "        index+=1\n",
    "        fullfilename = os.path.join(SEDfile_dir,filename)\n",
    "        hdr = fits.getheader(fullfilename)\n",
    "        obj_headers.append(hdr)\n",
    "        obj_files.append(filename)"
   ]
  },
  {
   "cell_type": "code",
   "execution_count": 15,
   "metadata": {
    "collapsed": true
   },
   "outputs": [],
   "source": [
    "#obj_names = []\n",
    "#index=0\n",
    "#for hdr in obj_headers: \n",
    "#        obj_name=obj_headers[index]['TARGETID']\n",
    "#        obj_names.append(obj_name)\n",
    "#        index+=1"
   ]
  },
  {
   "cell_type": "code",
   "execution_count": 16,
   "metadata": {},
   "outputs": [
    {
     "data": {
      "text/plain": [
       "['bz_1.fits', 'bz_10.fits', 'bz_11.fits', 'bz_12.fits', 'bz_13.fits']"
      ]
     },
     "execution_count": 16,
     "metadata": {},
     "output_type": "execute_result"
    }
   ],
   "source": [
    "filelist[:5]"
   ]
  },
  {
   "cell_type": "code",
   "execution_count": 17,
   "metadata": {
    "collapsed": true
   },
   "outputs": [],
   "source": [
    "obj_names2 = []\n",
    "index=0\n",
    "for thefile in fits_files:\n",
    "    #thenames=re.findall('^bk_([a-z][0-9]+).fits$',thefile)\n",
    "    thenames=re.findall('^bz_([0-9].*).fits$',thefile) \n",
    "    if(len(thenames)>0):\n",
    "        obj_names2.append('bz_'+thenames[0])\n",
    "    elif thefile=='bzspectype.fits':\n",
    "        obj_names2.append('bzspectype')\n",
    "    else:\n",
    "        print 'bad file ',thefile\n",
    "    index+=1"
   ]
  },
  {
   "cell_type": "code",
   "execution_count": 18,
   "metadata": {},
   "outputs": [
    {
     "name": "stdout",
     "output_type": "stream",
     "text": [
      "['bz_1', 'bz_10', 'bz_11', 'bz_12', 'bz_13', 'bz_14', 'bz_15', 'bz_16', 'bz_17', 'bz_18', 'bz_19', 'bz_2', 'bz_20', 'bz_21', 'bz_22', 'bz_23', 'bz_24', 'bz_25', 'bz_26', 'bz_27', 'bz_28', 'bz_29', 'bz_3', 'bz_30', 'bz_31', 'bz_32', 'bz_33', 'bz_34', 'bz_35', 'bz_36', 'bz_37', 'bz_38', 'bz_39', 'bz_4', 'bz_40', 'bz_41', 'bz_42', 'bz_43', 'bz_44', 'bz_45', 'bz_46', 'bz_47', 'bz_48', 'bz_49', 'bz_5', 'bz_50', 'bz_51', 'bz_52', 'bz_53', 'bz_54', 'bz_55', 'bz_56', 'bz_57', 'bz_58', 'bz_59', 'bz_6', 'bz_60', 'bz_61', 'bz_62', 'bz_63', 'bz_64', 'bz_65', 'bz_66', 'bz_67', 'bz_68', 'bz_69', 'bz_7', 'bz_70', 'bz_71', 'bz_72', 'bz_73', 'bz_74', 'bz_75', 'bz_76', 'bz_77', 'bz_8', 'bz_9']\n"
     ]
    }
   ],
   "source": [
    "print obj_names2"
   ]
  },
  {
   "cell_type": "code",
   "execution_count": 19,
   "metadata": {
    "collapsed": true
   },
   "outputs": [],
   "source": [
    "obj_names=obj_names2"
   ]
  },
  {
   "cell_type": "code",
   "execution_count": 20,
   "metadata": {},
   "outputs": [
    {
     "name": "stdout",
     "output_type": "stream",
     "text": [
      "['bz_1.fits', 'bz_10.fits', 'bz_11.fits', 'bz_12.fits', 'bz_13.fits', 'bz_14.fits', 'bz_15.fits', 'bz_16.fits', 'bz_17.fits', 'bz_18.fits', 'bz_19.fits', 'bz_2.fits', 'bz_20.fits', 'bz_21.fits', 'bz_22.fits', 'bz_23.fits', 'bz_24.fits', 'bz_25.fits', 'bz_26.fits', 'bz_27.fits', 'bz_28.fits', 'bz_29.fits', 'bz_3.fits', 'bz_30.fits', 'bz_31.fits', 'bz_32.fits', 'bz_33.fits', 'bz_34.fits', 'bz_35.fits', 'bz_36.fits', 'bz_37.fits', 'bz_38.fits', 'bz_39.fits', 'bz_4.fits', 'bz_40.fits', 'bz_41.fits', 'bz_42.fits', 'bz_43.fits', 'bz_44.fits', 'bz_45.fits', 'bz_46.fits', 'bz_47.fits', 'bz_48.fits', 'bz_49.fits', 'bz_5.fits', 'bz_50.fits', 'bz_51.fits', 'bz_52.fits', 'bz_53.fits', 'bz_54.fits', 'bz_55.fits', 'bz_56.fits', 'bz_57.fits', 'bz_58.fits', 'bz_59.fits', 'bz_6.fits', 'bz_60.fits', 'bz_61.fits', 'bz_62.fits', 'bz_63.fits', 'bz_64.fits', 'bz_65.fits', 'bz_66.fits', 'bz_67.fits', 'bz_68.fits', 'bz_69.fits', 'bz_7.fits', 'bz_70.fits', 'bz_71.fits', 'bz_72.fits', 'bz_73.fits', 'bz_74.fits', 'bz_75.fits', 'bz_76.fits', 'bz_77.fits', 'bz_8.fits', 'bz_9.fits']\n"
     ]
    }
   ],
   "source": [
    "print obj_files"
   ]
  },
  {
   "cell_type": "code",
   "execution_count": 21,
   "metadata": {
    "collapsed": true
   },
   "outputs": [],
   "source": [
    "objames_and_objfiles = zip(obj_names, obj_files)"
   ]
  },
  {
   "cell_type": "markdown",
   "metadata": {},
   "source": [
    "## Make a dictionary of filenames"
   ]
  },
  {
   "cell_type": "code",
   "execution_count": 22,
   "metadata": {},
   "outputs": [
    {
     "name": "stdout",
     "output_type": "stream",
     "text": [
      "bz_1 : \n",
      "bz_1.fits\n",
      "bz_10 : \n",
      "bz_10.fits\n",
      "bz_11 : \n",
      "bz_11.fits\n",
      "bz_12 : \n",
      "bz_12.fits\n",
      "bz_13 : \n",
      "bz_13.fits\n",
      "bz_14 : \n",
      "bz_14.fits\n",
      "bz_15 : \n",
      "bz_15.fits\n",
      "bz_16 : \n",
      "bz_16.fits\n",
      "bz_17 : \n",
      "bz_17.fits\n",
      "bz_18 : \n",
      "bz_18.fits\n",
      "bz_19 : \n",
      "bz_19.fits\n",
      "bz_2 : \n",
      "bz_2.fits\n",
      "bz_20 : \n",
      "bz_20.fits\n",
      "bz_21 : \n",
      "bz_21.fits\n",
      "bz_22 : \n",
      "bz_22.fits\n",
      "bz_23 : \n",
      "bz_23.fits\n",
      "bz_24 : \n",
      "bz_24.fits\n",
      "bz_25 : \n",
      "bz_25.fits\n",
      "bz_26 : \n",
      "bz_26.fits\n",
      "bz_27 : \n",
      "bz_27.fits\n",
      "bz_28 : \n",
      "bz_28.fits\n",
      "bz_29 : \n",
      "bz_29.fits\n",
      "bz_3 : \n",
      "bz_3.fits\n",
      "bz_30 : \n",
      "bz_30.fits\n",
      "bz_31 : \n",
      "bz_31.fits\n",
      "bz_32 : \n",
      "bz_32.fits\n",
      "bz_33 : \n",
      "bz_33.fits\n",
      "bz_34 : \n",
      "bz_34.fits\n",
      "bz_35 : \n",
      "bz_35.fits\n",
      "bz_36 : \n",
      "bz_36.fits\n",
      "bz_37 : \n",
      "bz_37.fits\n",
      "bz_38 : \n",
      "bz_38.fits\n",
      "bz_39 : \n",
      "bz_39.fits\n",
      "bz_4 : \n",
      "bz_4.fits\n",
      "bz_40 : \n",
      "bz_40.fits\n",
      "bz_41 : \n",
      "bz_41.fits\n",
      "bz_42 : \n",
      "bz_42.fits\n",
      "bz_43 : \n",
      "bz_43.fits\n",
      "bz_44 : \n",
      "bz_44.fits\n",
      "bz_45 : \n",
      "bz_45.fits\n",
      "bz_46 : \n",
      "bz_46.fits\n",
      "bz_47 : \n",
      "bz_47.fits\n",
      "bz_48 : \n",
      "bz_48.fits\n",
      "bz_49 : \n",
      "bz_49.fits\n",
      "bz_5 : \n",
      "bz_5.fits\n",
      "bz_50 : \n",
      "bz_50.fits\n",
      "bz_51 : \n",
      "bz_51.fits\n",
      "bz_52 : \n",
      "bz_52.fits\n",
      "bz_53 : \n",
      "bz_53.fits\n",
      "bz_54 : \n",
      "bz_54.fits\n",
      "bz_55 : \n",
      "bz_55.fits\n",
      "bz_56 : \n",
      "bz_56.fits\n",
      "bz_57 : \n",
      "bz_57.fits\n",
      "bz_58 : \n",
      "bz_58.fits\n",
      "bz_59 : \n",
      "bz_59.fits\n",
      "bz_6 : \n",
      "bz_6.fits\n",
      "bz_60 : \n",
      "bz_60.fits\n",
      "bz_61 : \n",
      "bz_61.fits\n",
      "bz_62 : \n",
      "bz_62.fits\n",
      "bz_63 : \n",
      "bz_63.fits\n",
      "bz_64 : \n",
      "bz_64.fits\n",
      "bz_65 : \n",
      "bz_65.fits\n",
      "bz_66 : \n",
      "bz_66.fits\n",
      "bz_67 : \n",
      "bz_67.fits\n",
      "bz_68 : \n",
      "bz_68.fits\n",
      "bz_69 : \n",
      "bz_69.fits\n",
      "bz_7 : \n",
      "bz_7.fits\n",
      "bz_70 : \n",
      "bz_70.fits\n",
      "bz_71 : \n",
      "bz_71.fits\n",
      "bz_72 : \n",
      "bz_72.fits\n",
      "bz_73 : \n",
      "bz_73.fits\n",
      "bz_74 : \n",
      "bz_74.fits\n",
      "bz_75 : \n",
      "bz_75.fits\n",
      "bz_76 : \n",
      "bz_76.fits\n",
      "bz_77 : \n",
      "bz_77.fits\n",
      "bz_8 : \n",
      "bz_8.fits\n",
      "bz_9 : \n",
      "bz_9.fits\n"
     ]
    }
   ],
   "source": [
    "OBJDict= {}\n",
    "for obj,thefile in objames_and_objfiles:\n",
    "    print obj,': '\n",
    "    OBJDict[obj]=thefile\n",
    "    print OBJDict[obj] "
   ]
  },
  {
   "cell_type": "markdown",
   "metadata": {},
   "source": [
    "## Plot the SED"
   ]
  },
  {
   "cell_type": "code",
   "execution_count": 23,
   "metadata": {},
   "outputs": [
    {
     "name": "stderr",
     "output_type": "stream",
     "text": [
      "/Users/dagoret/anaconda/lib/python2.7/site-packages/pysynphot/units.py:851: RuntimeWarning: divide by zero encountered in log\n",
      "  return -1.085736 * N.log(arg) + STZERO\n",
      "/Users/dagoret/anaconda/lib/python2.7/site-packages/matplotlib/ticker.py:2039: UserWarning: Data has no positive values, and therefore cannot be log-scaled.\n",
      "  \"Data has no positive values, and therefore cannot be \"\n"
     ]
    },
    {
     "data": {
      "image/png": "[encoded data removed]",
      "text/plain": [
       "<matplotlib.figure.Figure at 0x111d8d550>"
      ]
     },
     "metadata": {},
     "output_type": "display_data"
    }
   ],
   "source": [
    "for keyobj in OBJDict:\n",
    "    the_file=OBJDict[keyobj]\n",
    "        \n",
    "    selected_file=the_file\n",
    "    selected_fullfile=os.path.join(SEDfile_dir,selected_file)\n",
    "        \n",
    "    sed=S.FileSpectrum(selected_fullfile)\n",
    "        \n",
    "    plt.semilogy(sed.wave,sed.flux,label=keyobj)\n",
    "    plt.xlim(0, 12000)\n",
    "    #plt.ylim(1e-23, 1e-6)\n",
    "    plt.xlabel(sed.waveunits)\n",
    "    plt.ylabel(sed.fluxunits)\n",
    "    plt.grid(True)\n",
    "    #plt.legend(loc='best')\n",
    "#    plt.title(os.path.basename(S.Vega.name))\n",
    "    plt.title(\"BZ77 models\")\n",
    "    plt.savefig(\"bz77.png\")"
   ]
  },
  {
   "cell_type": "code",
   "execution_count": null,
   "metadata": {
    "collapsed": true
   },
   "outputs": [],
   "source": []
  }
 ],
 "metadata": {
  "kernelspec": {
   "display_name": "Python 2",
   "language": "python",
   "name": "python2"
  },
  "language_info": {
   "codemirror_mode": {
    "name": "ipython",
    "version": 2
   },
   "file_extension": ".py",
   "mimetype": "text/x-python",
   "name": "python",
   "nbconvert_exporter": "python",
   "pygments_lexer": "ipython2",
   "version": "2.7.13"
  },
  "toc": {
   "nav_menu": {},
   "number_sections": true,
   "sideBar": true,
   "skip_h1_title": false,
   "toc_cell": false,
   "toc_position": {},
   "toc_section_display": "block",
   "toc_window_display": false
  }
 },
 "nbformat": 4,
 "nbformat_minor": 2
}
