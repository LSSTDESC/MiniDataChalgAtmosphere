{
 "cells": [
  {
   "cell_type": "markdown",
   "metadata": {},
   "source": [
    "# The purpose is to show the SED of stars"
   ]
  },
  {
   "cell_type": "markdown",
   "metadata": {},
   "source": [
    "## Definitions of the libraries"
   ]
  },
  {
   "cell_type": "code",
   "execution_count": 2,
   "metadata": {
    "collapsed": true
   },
   "outputs": [],
   "source": [
    "import numpy as np\n",
    "# Set up matplotlib and use a nicer set of plot parameters\n",
    "import matplotlib\n",
    "import matplotlib.pyplot as plt\n",
    "%matplotlib inline"
   ]
  },
  {
   "cell_type": "code",
   "execution_count": 3,
   "metadata": {
    "collapsed": true
   },
   "outputs": [],
   "source": [
    "import astropy\n",
    "from astropy.io import fits\n",
    "from astropy.coordinates import SkyCoord, EarthLocation, AltAz"
   ]
  },
  {
   "cell_type": "code",
   "execution_count": 4,
   "metadata": {
    "collapsed": true
   },
   "outputs": [],
   "source": [
    "import pandas as pd\n",
    "import os\n",
    "import re"
   ]
  },
  {
   "cell_type": "code",
   "execution_count": 5,
   "metadata": {
    "collapsed": true
   },
   "outputs": [],
   "source": [
    "from astroquery.simbad import Simbad"
   ]
  },
  {
   "cell_type": "code",
   "execution_count": 29,
   "metadata": {
    "collapsed": true
   },
   "outputs": [],
   "source": [
    "# to enlarge the sizes\n",
    "params = {'legend.fontsize': 'x-large',\n",
    "          'figure.figsize': (15, 8),\n",
    "         'axes.labelsize': 'x-large',\n",
    "         'axes.titlesize':'x-large',\n",
    "         'xtick.labelsize':'x-large',\n",
    "         'ytick.labelsize':'x-large'}\n",
    "plt.rcParams.update(params)"
   ]
  },
  {
   "cell_type": "code",
   "execution_count": 7,
   "metadata": {
    "collapsed": true
   },
   "outputs": [],
   "source": [
    "top_pysynphot_data_dir=os.environ['PYSYN_CDBS']"
   ]
  },
  {
   "cell_type": "code",
   "execution_count": 8,
   "metadata": {
    "collapsed": true
   },
   "outputs": [],
   "source": [
    "import pysynphot as S\n",
    "S.primary_area=6*1e4\n",
    "S.binning=10."
   ]
  },
  {
   "cell_type": "markdown",
   "metadata": {},
   "source": [
    "## Defines where are the data"
   ]
  },
  {
   "cell_type": "code",
   "execution_count": 9,
   "metadata": {
    "collapsed": true
   },
   "outputs": [],
   "source": [
    "dir_star='calspec'\n",
    "dir_nostar='grid'"
   ]
  },
  {
   "cell_type": "code",
   "execution_count": 10,
   "metadata": {
    "collapsed": true
   },
   "outputs": [],
   "source": [
    "dir_submodels=['ags','bpgs','extinction','jacobi','phoenix','bc95','bz77','galactic','k93models','pickles','bkmodels','ck04models','gunnstryker','kc96']"
   ]
  },
  {
   "cell_type": "markdown",
   "metadata": {},
   "source": [
    "## where are the files"
   ]
  },
  {
   "cell_type": "code",
   "execution_count": 11,
   "metadata": {
    "collapsed": true
   },
   "outputs": [],
   "source": [
    "SEDfile_dir=os.path.join(top_pysynphot_data_dir,dir_star)"
   ]
  },
  {
   "cell_type": "code",
   "execution_count": 12,
   "metadata": {
    "collapsed": true
   },
   "outputs": [],
   "source": [
    "filelist=os.listdir(SEDfile_dir) "
   ]
  },
  {
   "cell_type": "code",
   "execution_count": 13,
   "metadata": {
    "collapsed": true
   },
   "outputs": [],
   "source": [
    "fits_files = [f for f in os.listdir(SEDfile_dir) if f.endswith('.fits')]"
   ]
  },
  {
   "cell_type": "markdown",
   "metadata": {},
   "source": [
    "## Find the star-names in the files"
   ]
  },
  {
   "cell_type": "code",
   "execution_count": 14,
   "metadata": {},
   "outputs": [
    {
     "name": "stderr",
     "output_type": "stream",
     "text": [
      "WARNING: The following header keyword is invalid or follows an unrecognized non-standard convention:\n",
      "    START STIS                                                                   [astropy.io.fits.card]\n",
      "WARNING: The following header keyword is invalid or follows an unrecognized non-standard convention:\n",
      "FILE WRITTEN BY ECHLREDUCE.PRO ON 11-Jun-2013 11:27:39.00                        [astropy.io.fits.card]\n",
      "WARNING: The following header keyword is invalid or follows an unrecognized non-standard convention:\n",
      "coadd list for E*H:                                                              [astropy.io.fits.card]\n",
      "WARNING: The following header keyword is invalid or follows an unrecognized non-standard convention:\n",
      " o57u01030 obb001040 obb005010 obb005020 obb001010 obb001090 obb005030           [astropy.io.fits.card]\n",
      "WARNING: The following header keyword is invalid or follows an unrecognized non-standard convention:\n",
      " obb005040 obb001060 obb001030 o57u01020 obb001050 obb001020 obb0010a0           [astropy.io.fits.card]\n",
      "WARNING: The following header keyword is invalid or follows an unrecognized non-standard convention:\n",
      " obb001070 o6hb100f0 obb001080 o57u01040 o5i011010 o5i011020 o5i011030           [astropy.io.fits.card]\n",
      "WARNING: The following header keyword is invalid or follows an unrecognized non-standard convention:\n",
      " obb0010b0 obb002090 obb0020b0 obb002010 obb002030 o6hb20060 obb002020           [astropy.io.fits.card]\n",
      "WARNING: The following header keyword is invalid or follows an unrecognized non-standard convention:\n",
      " o6hb20070 obb002040 o6hb20080 obb002050 obb002060 o6hb20090 obb002070           [astropy.io.fits.card]\n",
      "WARNING: The following header keyword is invalid or follows an unrecognized non-standard convention:\n",
      " obb002080 obb0020a0 obb0020c0 obb0020d0 obb004080 obb053040 obb053080           [astropy.io.fits.card]\n",
      "WARNING: The following header keyword is invalid or follows an unrecognized non-standard convention:\n",
      " obb053010 obb053020 obb053030 obb053050 obb053060 obb0530a0 obb053070           [astropy.io.fits.card]\n",
      "WARNING: The following header keyword is invalid or follows an unrecognized non-standard convention:\n",
      " obb053090 obb0530b0 obb004090 o5i010010 o5i010020 o5i010030 o5i013010           [astropy.io.fits.card]\n",
      "WARNING: The following header keyword is invalid or follows an unrecognized non-standard convention:\n",
      " o5i013020 o5i013030 o5i014010 o5i014020 o5i014030 o5i015010 o5i015020           [astropy.io.fits.card]\n",
      "WARNING: The following header keyword is invalid or follows an unrecognized non-standard convention:\n",
      " o5i015030 o6hb10010 o6hb10020 o6hb10030 o6hb10040 o6hb10050 o6hb10060           [astropy.io.fits.card]\n",
      "WARNING: The following header keyword is invalid or follows an unrecognized non-standard convention:\n",
      " o6hb10070 o6hb10080 o6hb10090 o6hb100a0 o6hb100b0 o6hb100c0 o6hb100d0           [astropy.io.fits.card]\n",
      "WARNING: The following header keyword is invalid or follows an unrecognized non-standard convention:\n",
      " o6hb100e0 o6hb20010 o6hb20020 o6hb20030 o6hb20040 o6hb20050 o6hb200a0           [astropy.io.fits.card]\n",
      "WARNING: The following header keyword is invalid or follows an unrecognized non-standard convention:\n",
      " o6hb200b0 o6hb200c0 o6hb200d0 o6hb200e0 o6hb200f0 o6hb30010 o6hb30020           [astropy.io.fits.card]\n",
      "WARNING: The following header keyword is invalid or follows an unrecognized non-standard convention:\n",
      " o6hb30030 o6hb30040 o6hb30050 o6hb30060 o6hb30070 o6hb30080 o6hb30090           [astropy.io.fits.card]\n",
      "WARNING: The following header keyword is invalid or follows an unrecognized non-standard convention:\n",
      " o6hb300a0 o6hb300b0 o6hb300c0 o6hb300d0 o6hb300e0 o6hb40080 o6hb40090           [astropy.io.fits.card]\n",
      "WARNING: The following header keyword is invalid or follows an unrecognized non-standard convention:\n",
      "SYS-ERROR is the broadband ~2% INTERNAL repeatability of echelles.               [astropy.io.fits.card]\n",
      "WARNING: The following header keyword is invalid or follows an unrecognized non-standard convention:\n",
      "IN ADDITION, THERE IS A SYSTEMATIC UNCERTAINTY IN THE ABS CALIB OF ~2-4%         [astropy.io.fits.card]\n",
      "WARNING: The following header keyword is invalid or follows an unrecognized non-standard convention:\n",
      "    Bohlin (2000,AJ,120,437). BOTH THE STAT-ERR AND SYS-ERR ARE 1-SIGMA.         [astropy.io.fits.card]\n",
      "WARNING: The following header keyword is invalid or follows an unrecognized non-standard convention:\n",
      "NO correction for stellar RADIAL VELOCITY                                        [astropy.io.fits.card]\n",
      "WARNING: The following header keyword is invalid or follows an unrecognized non-standard convention:\n",
      "G191B2B Sum of 105 OBS with STIS E*H Echelles                                    [astropy.io.fits.card]\n"
     ]
    }
   ],
   "source": [
    "star_header = []\n",
    "star_file_calspec = []\n",
    "for filename in filelist:\n",
    "    index=0\n",
    "    if re.search('fits',filename):  #example of filename filter\n",
    "        index+=1\n",
    "        fullfilename = os.path.join(SEDfile_dir,filename)\n",
    "        hdr = fits.getheader(fullfilename)\n",
    "        star_header.append(hdr)\n",
    "        star_file_calspec.append(filename)"
   ]
  },
  {
   "cell_type": "code",
   "execution_count": 15,
   "metadata": {},
   "outputs": [
    {
     "name": "stdout",
     "output_type": "stream",
     "text": [
      ">>>>>> skip file #  72 BAD HEADER\n",
      ">>>>>> filename =  gd153_stisnic_003.fits\n",
      "SIMPLE  =                    T / Fits standard                                  BITPIX  =                   16 / Bits per pixel                                 NAXIS   =                    0 / Number of axes                                 EXTEND  =                    T / File may contain extensions                    ORIGIN  = 'NOAO-IRAF FITS Image Kernel July 2003' / FITS file originator        DATE    = '2013-11-18T19:20:56' / Date FITS file was generated                  IRAF-TLM= '2015-01-06T17:00:23' / Time of last modification                     FILENAME= 'WDcovar.fits'       /                                                PEDIGREE= 'Models  '           /                                                DESCRIP = 'Bohlin & Gordon WD covariance for basis of HST relative fluxes-----' USEAFTER= 'January 1 2013'     /                                                HISTORY  5-Nov-2013 08:51:24.00 Created by uncert.pro-RCB                       HISTORY Covariance file for the WD basis of the HST fluxes.                     HISTORY \t The WAVE vector is the 574 vacuum wavelengths at R=100                HISTORY \t from 1000 to 300000Ang corresponding to the 574x574 COVAR             HISTORY \t 2-dimensional matrix.                                                 HISTORY Full Documentation in Bohlin & Gordon (2013) review paper               COMMENT = 'HST Flux scale is based on Rauch WD NLTE MODELS'                     DBTABLE = 'CRSPECTRUM'                                                                                                                                                                                                                                                                                                                                                                                                                                                                                                                                                                                                                                                                                                                                                                                                                                                                                                                                                                                                                                                                                                                                                                                                                                                                                                                                                                                          END                                                                             \n"
     ]
    }
   ],
   "source": [
    "star_names = []\n",
    "index=0\n",
    "for hdr in star_header: \n",
    "    #print index\n",
    "    if index!=72:\n",
    "        star_name=star_header[index]['TARGETID']\n",
    "        star_names.append(star_name)\n",
    "        index+=1\n",
    "    else:\n",
    "        print '>>>>>> skip file # ',index, 'BAD HEADER'\n",
    "        print '>>>>>> filename = ', filelist[index]\n",
    "        print hdr\n",
    "        index+=1"
   ]
  },
  {
   "cell_type": "code",
   "execution_count": 16,
   "metadata": {},
   "outputs": [
    {
     "name": "stdout",
     "output_type": "stream",
     "text": [
      "['GJ7541A', 'WD1657+343', 'P330E', 'MUCOL', 'bd60d1753', 'HD159222', 'sun_reference', '1808347', 'KF08T3', 'FEIGE110', 'HD180609', 'p177d', 'ETAUMA', 'G191B2B', 'G191B2B', 'HZ4', 'P041C', 'GD153_MOD', 'GRW+70D5824', 'HD93521', 'HZ21', 'WD1057_719_MOD', '1808347', 'HD163466', 'HS2027', 'HD116405', 'P177D', 'HZ43', 'KF06T1', 'KF06T2', '10lac', 'NGC7293', 'VB8', 'LDS749B', 'HD009051', 'HD38949', 'LAMLEP', 'WD1026_453', 'HD205905', 'FEIGE34', 'BD02D3375', 'HD106252', '1740346', 'HD111980', 'C26202', 'SF1615+001A', 'AGK+81D266', 'BD21D0607', '1805292', 'SNAP-1', 'hd209458', 'GRW+70D5824', 'p041c', 'BD+17D4708', 'LB227', 'hd38949', 'WD1057_719', 'WD1657_343_MOD', '1812095', 'HD160617', 'HZ43B', 'ALPHA_LYR', 'WD0308-565', '1805292', 'WD0320-539', 'GD153', 'BD+28D4211_FOS', 'KF01T5', 'lamlep', 'ALPHA_LYR', 'WD0320-539', 'GD153', 'KF06T2', 'BD+17D4708', 'HD185975', 'SNAP-1', 'BD21D0607', 'G191B2B', 'SF1615+001A', '2M0559-14', 'C26202', 'KSI2CETI', 'HD106252', '10LAC', 'GRW+70D5824', 'HZ43_MOD', 'HD009051', 'WD1026_453', 'HD205905', 'FEIGE34', 'WD0947_857', 'VB8', 'LDS749B', 'GD71', 'p177d', 'SF1615001A', 'KF06T1', 'hd106252', 'P177D', 'HS2027', 'GD71', 'SUN_REFERENCE', 'HD116405', 'HZ44', 'WD1057_719_MOD', 'HD163466', '2M0036+18', 'HZ21', 'HD158485', 'GRW+70D5824', 'SNAP-2', '1743045', 'BD26D2606', 'p330e', 'G191B2B', 'BD75', 'ETAUMA', '1732526', 'HD200654', 'LDS749B_MOD', 'HD180609', '1732526', 'HD159222', 'p041c', 'GD153_MOD', 'GJ7541A', '1802271', 'WD1657+343', 'MUCOL', '1757132', 'hd165459', 'LAMLEP', 'HD38949', '10LAC', 'FEIGE110', 'hd116405', '1812095', 'HD106252', 'KSI2CETI', 'HD074000', 'hd180609', 'C26202', '2M0559-14', 'hd163466', 'HD031128', 'SF1615+001A', 'sf1615_001a', 'p330e', '1740346', 'WD0308_565_MOD', '1812095', 'ksi2ceti', 'BD+28D4211', 'SNAP-1', 'AGK+81D266', 'BD+17D4708', '1805292', 'hd14943', 'ALPHA_LYR', 'HZ43B', 'GD153', 'BD29D2091', 'hd158485', 'GD71_MOD', 'BD54D1216', 'WD1657+343', 'P330E', 'MUCOL', 'HD180609', 'KF08T3', 'HD209458', 'BD75', 'hd37725', 'SIRIUS', 'G191B2B', 'kf08t3', 'SNAP-2', 'P041C', 'HD158485', 'BD60D1753', 'GRW+70D5824', '2M003618', 'HZ21', 'WD1057_719_MOD', 'HD163466', '1808347', 'kf06t2', 'G191B2B_MOD', 'HD60753', '1802271', 'hd205905', 'c26202', 'P177D', 'LDS749B', 'GD71', 'ALPHA_LYR', 'G191B2B', 'LDS749B', 'VB8', 'LDS749B', 'VB8', 'BD+33D2642', 'mucol', 'P177D', 'G191B2B_MOD', 'HS2027', 'snap2', 'HD116405', 'HD37725', 'hd159222', 'WD1057_719_MOD', '1808347', 'P177D', 'HD158485', 'GRW+70D5824', 'SNAP-2', 'P041C', 'GD71_MOD', 'G191B2B', 'HD209458', 'BD75', 'HD159222', '1743045', 'WD1657+343', 'P330E', 'HD93521', '1732526', 'BD+33D2642_FOS', 'GD71_MOD', 'BD54D1216', 'BD29D2091', 'ALPHA_LYR', 'HZ43B', 'GD153', 'WD0320-539', 'WD1057+719', 'ALPHA_LYR_MOD', 'BD+17D4708', 'HD165459', 'SNAP-1', 'HD14943', 'WD0308_565_MOD', 'HZ44', '1740346', 'SF1615+001A', '1757132', 'C26202', 'KSI2CETI', 'hd37962', 'HD074000', '1743045', '10LAC', 'BD+28D4211', 'SIRIUS_MOD', 'HD37962', 'HD205905', 'BD17D4708', 'WD1026_453', 'FEIGE34', 'LAMLEP', 'HD38949', 'BD17D4708', 'HZ21', 'GD153', 'ALPHA_LYR', 'KF06T2', 'ALPHA_LYR_MOD', 'WD1057+719', 'WD1657_343_MOD', 'HD165459', 'G191B2B_MOD', 'GD50', 'SNAP-1', 'HD14943', 'BD28D4211', 'G93-48', 'BD+75D325', '1740346', 'AGK+81D266', 'HD031128', '2M0559-14', '1757132', 'BD+75D325_FOS', 'KSI2CETI', 'hd37962', '1743045', 'HD37962', 'SIRIUS_MOD', '1812095', '10LAC', 'FEIGE110', 'GD71_MOD', 'VB8', 'WD0947_857', 'GD71', 'mucol', '1802271', 'snap2', 'HD60753', 'G191B2B_FOS', 'G191B2B_MOD', 'hd159222', 'HD37725', 'HZ44', '1812524', '2M0036+18', 'BD60D1753', 'GD108', 'HD158485', 'FEIGE34', 'P041C', 'HZ4', 'SNAP-2', 'G191B2B', '1802271', 'P330E', 'LDS749B_MOD', 'P041C', 'BD+75D325', 'HD209458', '1743045', 'HZ2', '1732526', 'WD1657_343', 'P330E', 'GD71_FOS', '1732526', 'GD71_MOD', 'BD54D1216', 'hd158485', 'FEIGE67', 'FEIGE66', 'P330E', 'LDS749B_MOD', 'HD209458', 'hd37725', 'SIRIUS', 'FEIGE110', 'P041C', 'HZ4', 'SNAP-2', 'BD60D1753', '2M0036+18', 'HD93521', '1808347', 'WD1057_719_MOD', 'HD60753', 'kf06t2', 'G191_MOD', 'HD37725', 'hd205905', '1802271', 'P177D', 'c26202', 'HZ43', 'GD71', 'G191B2B_NIC', 'LDS749B', 'LAMLEP', 'hd165459', 'HD38949', 'BD+25D4655', 'P330E', '1757132', 'GD71_MOD', 'HD37962', '1812095', 'FEIGE110', 'hd116405', '1743045', 'HD074000', 'hd180609', 'C26202', '2M0559-14', '1757132', 'HD031128', 'hd163466', 'p330e', 'AGK+81D266', 'sf1615_001a', 'WD0308_565_MOD', 'HD14943', 'BD28D4211', '1812095', 'ksi2ceti', 'G191B2B_MOD', 'HD165459', 'WD1057+719', 'hd14943', 'WD1657_343_MOD', '1805292', '1805292', 'HZ43B', 'ALPHA_LYR', 'WD0308-565', 'BD29D2091', 'HZ4', 'LDS749B', 'WD0947_857', 'LDS749B', 'GD71', 'KF06T1', 'HZ43', 'p177d', 'hd106252', 'P177D', 'HD116405', 'SUN_REFERENCE', 'HS2027', 'HZ44', 'HD37725', '2M0036+18', 'HD93521', '1812524', 'GRW+70D5824', 'GD153_MOD', 'HZ43_MOD', 'GD153_FOS', 'BD26D2606', 'HZ4', 'P041C', 'SNAP-2', '1743045', 'HD200654', 'LDS749B_MOD', 'HD209458', 'KF08T3', 'HD159222', '1732526', '1802271', 'P330E', 'p041c', 'GJ7541A', 'lamlep', 'KF01T5', '1805292', 'WD0320-539', 'WD0308-565', 'HD160617', 'WD1057+719', 'WD1657_343_MOD', 'KF06T2', 'HD185975', 'BD+17D4708', 'HD165459', 'HD14943', 'BD21D0607', 'LTT9491', 'AGK+81D266', 'SF1615+001A', 'HZ43_MOD', 'GD153_MOD', 'HZ43_FOS', 'ALPHA-LYR', '1757132', '2M0559-14', 'C26202', 'HD111980', 'HZ44_FOS', '1743045', 'HD37962', 'FEIGE110', 'BD02D3375', 'WD1026_453', 'HD205905', 'FEIGE34', 'HD009051', 'BD02D3375', '1812095', 'FEIGE110', 'HD106252', 'HD111980', '1740346', 'HD165459', 'ALPHA-LYR', 'C26202', '2M0559-14', 'SF1615+001A', 'HZ43_MOD', 'GD153_MOD', 'AGK+81D266', 'BD28D4211', '1805292', 'hd209458', 'GD153', 'SNAP-1', 'AGK+81D266', 'HD185975', 'WD1057+719', 'WD1657_343_MOD', '1812095', 'KF06T2', 'hd38949', 'GD153', '1805292', 'WD0308-565', 'HD160617', 'KF01T5', 'bd60d1753', 'MUCOL', 'WD1657+343', 'P330E', 'KF08T3', '1808347', '1732526', 'HD180609', 'HD200654', 'LDS749B_MOD', 'ETAUMA', 'HD209458', 'G191B2B', 'BD26D2606', 'HZ4', 'P041C', 'SNAP-2', 'BD60D1753', 'GRW+70D5824', 'GD153_MOD', 'HZ43_MOD', '2M0036+18', 'HD93521', 'HZ21', '1812524', 'HD163466', 'HZ44', '1802271', 'P177D', 'HZ43', '10lac', 'GD71', 'VB8', 'WD0947_857']\n"
     ]
    }
   ],
   "source": [
    "print star_names"
   ]
  },
  {
   "cell_type": "markdown",
   "metadata": {
    "collapsed": true
   },
   "source": [
    "## Sort the star names"
   ]
  },
  {
   "cell_type": "code",
   "execution_count": 17,
   "metadata": {
    "collapsed": true
   },
   "outputs": [],
   "source": [
    "star_names_sorted=sorted(star_names,key=star_names.count,reverse=True) "
   ]
  },
  {
   "cell_type": "markdown",
   "metadata": {},
   "source": [
    "## Make every star name in upper case"
   ]
  },
  {
   "cell_type": "code",
   "execution_count": 18,
   "metadata": {
    "collapsed": true
   },
   "outputs": [],
   "source": [
    "star_names_sorted_upper = map(lambda s: s.upper(), star_names_sorted)"
   ]
  },
  {
   "cell_type": "markdown",
   "metadata": {},
   "source": [
    "## Remove multiple entries"
   ]
  },
  {
   "cell_type": "code",
   "execution_count": 19,
   "metadata": {
    "collapsed": true
   },
   "outputs": [],
   "source": [
    "star_names_set=set(star_names_sorted_upper)"
   ]
  },
  {
   "cell_type": "markdown",
   "metadata": {},
   "source": [
    "## Make a dictionary of filenames"
   ]
  },
  {
   "cell_type": "code",
   "execution_count": 20,
   "metadata": {},
   "outputs": [
    {
     "name": "stdout",
     "output_type": "stream",
     "text": [
      "P177D : \n",
      "\n",
      "['p177d_001.fits', 'p177d_stisnic_004.fits', 'p177d_mod_001.fits', 'p177d_stisnic_005.fits', 'p177d_stisnic_002.fits', 'p177d_stisnic_003.fits', 'p177d_stis_001.fits', 'p177d_stisnic_001.fits', 'p177d_mod_002.fits', 'p177d_stisnic_006.fits', 'p177d_stisnic_007.fits'] \n",
      "\n",
      "BD+33D2642 : \n",
      "\n",
      "[] \n",
      "\n",
      "WD1657_343 : \n",
      "\n",
      "['wd1657_343_stisnic_005.fits', 'wd1657_343_mod_001.fits', 'wd1657_343_stisnic_004.fits', 'wd1657_343_stisnic_003.fits', 'wd1657_343_stisnic_002.fits', 'wd1657_343_mod_005.fits', 'wd1657_343_stisnic_001.fits', 'wd1657_343_mod_004.fits', 'wd1657_343_mod_003.fits', 'wd1657_343_mod_002.fits', 'wd1657_343_stisnic_006.fits'] \n",
      "\n",
      "G191B2B_NIC : \n",
      "\n",
      "['g191b2b_nic_001.fits'] \n",
      "\n",
      "BD21D0607 : \n",
      "\n",
      "['bd21d0607_stis_003.fits', 'bd21d0607_stis_002.fits', 'bd21d0607_stis_001.fits'] \n",
      "\n",
      "HD14943 : \n",
      "\n",
      "['hd14943_mod_001.fits', 'hd14943_stis_001.fits', 'hd14943_stis_002.fits', 'hd14943_stis_003.fits', 'hd14943_mod_002.fits', 'hd14943_stis_004.fits'] \n",
      "\n",
      "HD37725 : \n",
      "\n",
      "['hd37725_mod_002.fits', 'hd37725_stis_001.fits', 'hd37725_stis_002.fits', 'hd37725_mod_001.fits', 'hd37725_stis_003.fits', 'hd37725_stis_004.fits'] \n",
      "\n",
      "1743045 : \n",
      "\n",
      "['1743045_nic_001.fits', '1743045_mod_002.fits', '1743045_stisnic_001.fits', '1743045_stisnic_002.fits', '1743045_mod_001.fits', '1743045_stisnic_003.fits', '1743045_nic_002.fits', '1743045_stisnic_004.fits'] \n",
      "\n",
      "SF1615+001A : \n",
      "\n",
      "['sf1615001a_stisnic_001.fits'] \n",
      "\n",
      "2M0036+18 : \n",
      "\n",
      "['2m003618_stisnic_006.fits', '2m003618_stisnic_001.fits', '2m003618_stisnic_003.fits', '2m003618_stisnic_002.fits', '2m003618_stisnic_005.fits', '2m003618_stisnic_004.fits'] \n",
      "\n",
      "G191B2B_MOD : \n",
      "\n",
      "['g191b2b_mod_007.fits', 'g191b2b_mod_010.fits', 'g191b2b_mod_009.fits', 'g191b2b_mod_005.fits', 'g191b2b_mod_004.fits', 'g191b2b_mod_008.fits'] \n",
      "\n",
      "HZ4 : \n",
      "\n",
      "['hz4_stis_001.fits', 'hz21_stis_002.fits', 'hz43_stis_001.fits', 'hz43b_stis_004.fits', 'hz43_mod_010.fits', 'hz44_stis_001.fits', 'hz21_stis_003.fits', 'hz43b_stis_002.fits', 'hz21_stis_004.fits', 'hz43b_stis_003.fits', 'hz44_005.fits', 'hz21_005.fits', 'hz44_stis_004.fits', 'hz4_stis_005.fits', 'hz2_005.fits', 'hz4_stis_004.fits', 'hz43_stis_004.fits', 'hz43b_stis_001.fits', 'hz4_004.fits', 'hz43_stis_003.fits', 'hz44_stis_002.fits', 'hz43_mod_009.fits', 'hz4_stis_003.fits', 'hz43_mod_005.fits', 'hz43_fos_003.fits', 'hz44_fos_003.fits', 'hz43_mod_004.fits', 'hz4_stis_002.fits', 'hz43_mod_008.fits', 'hz21_stis_001.fits', 'hz44_stis_003.fits', 'hz43_stis_002.fits'] \n",
      "\n",
      "2M0559-14 : \n",
      "\n",
      "[] \n",
      "\n",
      "HD031128 : \n",
      "\n",
      "['hd031128_stis_001.fits', 'hd031128_stis_003.fits', 'hd031128_stis_002.fits'] \n",
      "\n",
      "GD71 : \n",
      "\n",
      "['gd71_stisnic_001.fits', 'gd71_stis_001.fits', 'gd71_mod_007.fits', 'gd71_stisnic_006.fits', 'gd71_mod_010.fits', 'gd71_mod_006.fits', 'gd71_mod_009.fits', 'gd71_stisnic_004.fits', 'gd71_fos_003.fits', 'gd71_mod_005.fits', 'gd71_stisnic_005.fits', 'gd71_mod_008.fits', 'gd71_stisnic_002.fits', 'gd71_stisnic_003.fits'] \n",
      "\n",
      "HZ43_FOS : \n",
      "\n",
      "['hz43_fos_003.fits'] \n",
      "\n",
      "SNAP2 : \n",
      "\n",
      "['snap1_stisnic_002.fits', 'snap1_stisnic_003.fits', 'snap2_stisnic_001.fits', 'snap1_stisnic_004.fits', 'snap2_stisnic_006.fits', 'snap2_mod_002.fits', 'snap2_stisnic_007.fits', 'snap1_stisnic_005.fits', 'snap1_stisnic_006.fits', 'snap2_mod_001.fits', 'snap2_stisnic_004.fits', 'snap2_stisnic_005.fits', 'snap2_stisnic_002.fits', 'snap1_stisnic_001.fits', 'snap2_stisnic_003.fits'] \n",
      "\n",
      "HZ43_MOD : \n",
      "\n",
      "['hz43_mod_010.fits', 'hz43_mod_009.fits', 'hz43_mod_005.fits', 'hz43_mod_004.fits', 'hz43_mod_008.fits'] \n",
      "\n",
      "KF06T2 : \n",
      "\n",
      "['kf06t1_nic_003.fits', 'kf06t2_nic_001.fits', 'kf06t2_stisnic_001.fits', 'kf06t1_nic_002.fits', 'kf06t2_mod_002.fits', 'kf06t2_stisnic_004.fits', 'kf06t2_mod_001.fits', 'kf06t1_nic_001.fits', 'kf06t2_stisnic_002.fits', 'kf06t2_stisnic_003.fits'] \n",
      "\n",
      "KF06T1 : \n",
      "\n",
      "['kf06t1_nic_003.fits', 'kf06t2_nic_001.fits', 'kf06t2_stisnic_001.fits', 'kf06t1_nic_002.fits', 'kf06t2_mod_002.fits', 'kf06t2_stisnic_004.fits', 'kf06t2_mod_001.fits', 'kf06t1_nic_001.fits', 'kf06t2_stisnic_002.fits', 'kf06t2_stisnic_003.fits'] \n",
      "\n",
      "1812524 : \n",
      "\n",
      "['1812524_nic_004.fits', '1812524_nic_002.fits', '1812524_nic_003.fits'] \n",
      "\n",
      "HD158485 : \n",
      "\n",
      "['hd158485_stis_004.fits', 'hd158485_mod_002.fits', 'hd158485_stis_003.fits', 'hd158485_stis_002.fits', 'hd158485_stis_001.fits', 'hd158485_mod_001.fits'] \n",
      "\n",
      "1808347 : \n",
      "\n",
      "['1808347_mod_001.fits', '1808347_stis_004.fits', '1808347_stis_002.fits', '1808347_stis_003.fits', '1808347_stis_001.fits', '1808347_mod_002.fits'] \n",
      "\n",
      "HD163466 : \n",
      "\n",
      "['hd163466_stis_002.fits', 'hd163466_stis_003.fits', 'hd163466_mod_001.fits', 'hd163466_stis_004.fits', 'hd163466_mod_002.fits', 'hd163466_stis_001.fits'] \n",
      "\n",
      "G191B2B : \n",
      "\n",
      "['g191b2b_005.fits', 'g191b2b_stisnic_002.fits', 'g191b2b_stisfuse_001.fits', 'g191b2b_stisnic_003.fits', 'g191b2b_stisnic_004.fits', 'g191b2b_mod_007.fits', 'g191b2b_stis_001.fits', 'g191b2b_mod_010.fits', 'g191b2b_stisnic_005.fits', 'g191b2b_mod_009.fits', 'g191b2b_fos_003.fits', 'g191b2b_mod_005.fits', 'g191b2b_stisnic_006.fits', 'g191b2b_mod_004.fits', 'g191b2b_nic_001.fits', 'g191b2b_mod_008.fits', 'g191b2b_stisnic_001.fits'] \n",
      "\n",
      "HD116405 : \n",
      "\n",
      "['hd116405_stis_003.fits', 'hd116405_stis_002.fits', 'hd116405_mod_001.fits', 'hd116405_stis_004.fits', 'hd116405_mod_002.fits', 'hd116405_stis_001.fits'] \n",
      "\n",
      "LTT9491 : \n",
      "\n",
      "['ltt9491_002.fits'] \n",
      "\n",
      "BD28D4211 : \n",
      "\n",
      "[] \n",
      "\n",
      "BD75 : \n",
      "\n",
      "[] \n",
      "\n",
      "FEIGE67 : \n",
      "\n",
      "['feige67_002.fits', 'feige66_002.fits'] \n",
      "\n",
      "LAMLEP : \n",
      "\n",
      "['lamlep_stis_004.fits', 'lamlep_mod_002.fits', 'lamlep_stis_002.fits', 'lamlep_stis_003.fits', 'lamlep_stis_001.fits', 'lamlep_mod_001.fits'] \n",
      "\n",
      "FEIGE66 : \n",
      "\n",
      "['feige67_002.fits', 'feige66_002.fits'] \n",
      "\n",
      "BD+75D325_FOS : \n",
      "\n",
      "[] \n",
      "\n",
      "AGK+81D266 : \n",
      "\n",
      "[] \n",
      "\n",
      "G191B2B_FOS : \n",
      "\n",
      "['g191b2b_fos_003.fits'] \n",
      "\n",
      "G93-48 : \n",
      "\n",
      "[] \n",
      "\n",
      "HD106252 : \n",
      "\n",
      "['hd106252_stis_002.fits', 'hd106252_stis_003.fits', 'hd106252_mod_002.fits', 'hd106252_stis_004.fits', 'hd106252_mod_001.fits', 'hd106252_stis_001.fits'] \n",
      "\n",
      "ALPHA-LYR : \n",
      "\n",
      "[] \n",
      "\n",
      "WD1057_719_MOD : \n",
      "\n",
      "['wd1057_719_mod_004.fits', 'wd1057_719_mod_005.fits', 'wd1057_719_mod_002.fits', 'wd1057_719_mod_003.fits', 'wd1057_719_mod_001.fits'] \n",
      "\n",
      "HZ44_FOS : \n",
      "\n",
      "['hz44_fos_003.fits'] \n",
      "\n",
      "SF1615_001A : \n",
      "\n",
      "['sf1615_001a_stisnic_004.fits', 'sf1615_001a_stisnic_005.fits', 'sf1615_001a_stisnic_002.fits', 'sf1615_001a_mod_001.fits', 'sf1615_001a_stisnic_003.fits', 'sf1615_001a_mod_002.fits', 'sf1615_001a_stisnic_006.fits', 'sf1615_001a_stisnic_007.fits'] \n",
      "\n",
      "HD159222 : \n",
      "\n",
      "['hd159222_stis_003.fits', 'hd159222_stis_002.fits', 'hd159222_mod_002.fits', 'hd159222_stis_004.fits', 'hd159222_mod_001.fits', 'hd159222_stis_001.fits'] \n",
      "\n",
      "GD50 : \n",
      "\n",
      "['gd50_004.fits'] \n",
      "\n",
      "BD+33D2642_FOS : \n",
      "\n",
      "[] \n",
      "\n",
      "WD1057+719 : \n",
      "\n",
      "[] \n",
      "\n",
      "LDS749B_MOD : \n",
      "\n",
      "['lds749b_mod_001.fits', 'lds749b_mod_004.fits', 'lds749b_mod_005.fits', 'lds749b_mod_002.fits', 'lds749b_mod_003.fits'] \n",
      "\n",
      "HD209458 : \n",
      "\n",
      "['hd209458_mod_002.fits', 'hd209458_stisnic_007.fits', 'hd209458_stisnic_006.fits', 'hd209458_stisnic_005.fits', 'hd209458_stisnic_004.fits', 'hd209458_stisnic_003.fits', 'hd209458_mod_001.fits', 'hd209458_stisnic_002.fits'] \n",
      "\n",
      "HD60753 : \n",
      "\n",
      "['hd60753_stis_001.fits', 'hd60753_stis_003.fits', 'hd60753_stis_002.fits'] \n",
      "\n",
      "P041C : \n",
      "\n",
      "['p041c_stisnic_001.fits', 'p041c_001.fits', 'p041c_mod_002.fits', 'p041c_stisnic_007.fits', 'p041c_stisnic_006.fits', 'p041c_stisnic_005.fits', 'p041c_stis_001.fits', 'p041c_stisnic_004.fits', 'p041c_stisnic_003.fits', 'p041c_mod_001.fits', 'p041c_stisnic_002.fits'] \n",
      "\n",
      "HS2027 : \n",
      "\n",
      "['hs2027_stis_003.fits', 'hs2027_stis_002.fits', 'hs2027_stis_004.fits', 'hs2027_stis_001.fits'] \n",
      "\n",
      "BD+28D4211_FOS : \n",
      "\n",
      "[] \n",
      "\n",
      "HD37962 : \n",
      "\n",
      "['hd37962_mod_002.fits', 'hd37962_stis_001.fits', 'hd37962_mod_001.fits', 'hd37962_stis_002.fits', 'hd37962_stis_003.fits', 'hd37962_stis_004.fits'] \n",
      "\n",
      "HD185975 : \n",
      "\n",
      "['hd185975_stis_001.fits', 'hd185975_stis_002.fits', 'hd185975_stis_003.fits'] \n",
      "\n",
      "BD02D3375 : \n",
      "\n",
      "['bd02d3375_stis_001.fits', 'bd02d3375_stis_003.fits', 'bd02d3375_stis_002.fits'] \n",
      "\n",
      "1740346 : \n",
      "\n",
      "['1740346_nic_001.fits', '1740346_stisnic_003.fits', '1740346_stisnic_002.fits', '1740346_stisnic_001.fits', '1740346_nic_002.fits'] \n",
      "\n",
      "HD200654 : \n",
      "\n",
      "['hd200654_stis_001.fits', 'hd200654_stis_002.fits', 'hd200654_stis_003.fits'] \n",
      "\n",
      "HZ43B : \n",
      "\n",
      "['hz43_stis_001.fits', 'hz43b_stis_004.fits', 'hz43_mod_010.fits', 'hz43b_stis_002.fits', 'hz43b_stis_003.fits', 'hz43_stis_004.fits', 'hz43b_stis_001.fits', 'hz43_stis_003.fits', 'hz43_mod_009.fits', 'hz43_mod_005.fits', 'hz43_fos_003.fits', 'hz43_mod_004.fits', 'hz43_mod_008.fits', 'hz43_stis_002.fits'] \n",
      "\n",
      "SNAP-1 : \n",
      "\n",
      "[] \n",
      "\n",
      "WD0308-565 : \n",
      "\n",
      "[] \n",
      "\n",
      "BD17D4708 : \n",
      "\n",
      "['bd17d4708_stis_001.fits', 'bd17d4708_stisnic_001.fits'] \n",
      "\n",
      "GD153_FOS : \n",
      "\n",
      "['gd153_fos_003.fits'] \n",
      "\n",
      "GRW+70D5824 : \n",
      "\n",
      "[] \n",
      "\n",
      "KSI2CETI : \n",
      "\n",
      "['ksi2ceti_stis_004.fits', 'ksi2ceti_stis_003.fits', 'ksi2ceti_mod_001.fits', 'ksi2ceti_stis_002.fits', 'ksi2ceti_stis_001.fits', 'ksi2ceti_mod_002.fits'] \n",
      "\n",
      "HD160617 : \n",
      "\n",
      "['hd160617_stis_001.fits', 'hd160617_stis_003.fits', 'hd160617_stis_002.fits'] \n",
      "\n",
      "MUCOL : \n",
      "\n",
      "['mucol_stis_002.fits', 'mucol_stis_003.fits', 'mucol_stis_004.fits', 'mucol_mod_001.fits', 'mucol_mod_002.fits', 'mucol_stis_001.fits'] \n",
      "\n",
      "HZ43 : \n",
      "\n",
      "['hz4_stis_001.fits', 'hz43_stis_001.fits', 'hz43b_stis_004.fits', 'hz43_mod_010.fits', 'hz44_stis_001.fits', 'hz43b_stis_002.fits', 'hz43b_stis_003.fits', 'hz44_005.fits', 'hz44_stis_004.fits', 'hz4_stis_005.fits', 'hz4_stis_004.fits', 'hz43_stis_004.fits', 'hz43b_stis_001.fits', 'hz4_004.fits', 'hz43_stis_003.fits', 'hz44_stis_002.fits', 'hz43_mod_009.fits', 'hz4_stis_003.fits', 'hz43_mod_005.fits', 'hz43_fos_003.fits', 'hz44_fos_003.fits', 'hz43_mod_004.fits', 'hz4_stis_002.fits', 'hz43_mod_008.fits', 'hz44_stis_003.fits', 'hz43_stis_002.fits'] \n",
      "\n",
      "HZ44 : \n",
      "\n",
      "['hz4_stis_001.fits', 'hz43_stis_001.fits', 'hz43b_stis_004.fits', 'hz43_mod_010.fits', 'hz44_stis_001.fits', 'hz43b_stis_002.fits', 'hz43b_stis_003.fits', 'hz44_005.fits', 'hz44_stis_004.fits', 'hz4_stis_005.fits', 'hz4_stis_004.fits', 'hz43_stis_004.fits', 'hz43b_stis_001.fits', 'hz4_004.fits', 'hz43_stis_003.fits', 'hz44_stis_002.fits', 'hz43_mod_009.fits', 'hz4_stis_003.fits', 'hz43_mod_005.fits', 'hz43_fos_003.fits', 'hz44_fos_003.fits', 'hz43_mod_004.fits', 'hz4_stis_002.fits', 'hz43_mod_008.fits', 'hz44_stis_003.fits', 'hz43_stis_002.fits'] \n",
      "\n",
      "1802271 : \n",
      "\n",
      "['1802271_mod_002.fits', '1802271_stisnic_001.fits', '1802271_stisnic_003.fits', '1802271_nic_002.fits', '1802271_stisnic_002.fits', '1802271_mod_001.fits', '1802271_stisnic_004.fits'] \n",
      "\n",
      "FEIGE110 : \n",
      "\n",
      "['feige110_005.fits', 'feige110_stisnic_006.fits', 'feige110_stisnic_004.fits', 'feige110_stis_001.fits', 'feige110_stisnic_005.fits', 'feige110_stisnic_002.fits', 'feige110_stisnic_003.fits'] \n",
      "\n",
      "ALPHA_LYR_MOD : \n",
      "\n",
      "['alpha_lyr_mod_002.fits', 'alpha_lyr_mod_001.fits'] \n",
      "\n",
      "SIRIUS : \n",
      "\n",
      "['sirius_stis_001.fits', 'sirius_mod_002.fits', 'sirius_mod_001.fits', 'sirius_stis_002.fits'] \n",
      "\n",
      "SIRIUS_MOD : \n",
      "\n",
      "['sirius_mod_002.fits', 'sirius_mod_001.fits'] \n",
      "\n",
      "1757132 : \n",
      "\n",
      "['1757132_mod_001.fits', '1757132_stis_001.fits', '1757132_stis_002.fits', '1757132_mod_002.fits', '1757132_stis_003.fits', '1757132_stis_004.fits'] \n",
      "\n",
      "GD153_MOD : \n",
      "\n",
      "['gd153_mod_007.fits', 'gd153_mod_010.fits', 'gd153_mod_005.fits', 'gd153_mod_009.fits', 'gd153_mod_008.fits', 'gd153_mod_004.fits'] \n",
      "\n",
      "GD71_FOS : \n",
      "\n",
      "['gd71_fos_003.fits'] \n",
      "\n",
      "BD60D1753 : \n",
      "\n",
      "['bd60d1753_mod_002.fits', 'bd60d1753_stis_001.fits', 'bd60d1753_stis_003.fits', 'bd60d1753_stis_002.fits', 'bd60d1753_mod_001.fits', 'bd60d1753_stis_004.fits'] \n",
      "\n",
      "HZ2 : \n",
      "\n",
      "['hz4_stis_001.fits', 'hz21_stis_002.fits', 'hz43_stis_001.fits', 'hz43b_stis_004.fits', 'hz43_mod_010.fits', 'hz44_stis_001.fits', 'hz21_stis_003.fits', 'hz43b_stis_002.fits', 'hz21_stis_004.fits', 'hz43b_stis_003.fits', 'hz44_005.fits', 'hz21_005.fits', 'hz44_stis_004.fits', 'hz4_stis_005.fits', 'hz2_005.fits', 'hz4_stis_004.fits', 'hz43_stis_004.fits', 'hz43b_stis_001.fits', 'hz4_004.fits', 'hz43_stis_003.fits', 'hz44_stis_002.fits', 'hz43_mod_009.fits', 'hz4_stis_003.fits', 'hz43_mod_005.fits', 'hz43_fos_003.fits', 'hz44_fos_003.fits', 'hz43_mod_004.fits', 'hz4_stis_002.fits', 'hz43_mod_008.fits', 'hz21_stis_001.fits', 'hz44_stis_003.fits', 'hz43_stis_002.fits'] \n",
      "\n",
      "LDS749B : \n",
      "\n",
      "['lds749b_stisnic_004.fits', 'lds749b_stisnic_005.fits', 'lds749b_mod_001.fits', 'lds749b_stis_001.fits', 'lds749b_stisnic_002.fits', 'lds749b_stisnic_003.fits', 'lds749b_mod_004.fits', 'lds749b_mod_005.fits', 'lds749b_stisnic_001.fits', 'lds749b_stisnic_006.fits', 'lds749b_005.fits', 'lds749b_mod_002.fits', 'lds749b_mod_003.fits'] \n",
      "\n",
      "WD1026_453 : \n",
      "\n",
      "['wd1026_453_stis_003.fits', 'wd1026_453_stis_002.fits', 'wd1026_453_stis_004.fits', 'wd1026_453_stis_001.fits'] \n",
      "\n",
      "BD+75D325 : \n",
      "\n",
      "[] \n",
      "\n",
      "LB227 : \n",
      "\n",
      "['lb227_004.fits'] \n",
      "\n",
      "KF08T3 : \n",
      "\n",
      "['kf08t3_nic_001.fits', 'kf08t3_stisnic_001.fits', 'kf08t3_mod_002.fits', 'kf08t3_nic_003.fits', 'kf08t3_nic_002.fits'] \n",
      "\n",
      "GJ7541A : \n",
      "\n",
      "['gj7541a_stis_003.fits', 'gj7541a_stis_002.fits', 'gj7541a_stis_001.fits'] \n",
      "\n",
      "HD93521 : \n",
      "\n",
      "['hd93521_stis_001.fits', 'hd93521_005.fits', 'hd93521_stis_004.fits', 'hd93521_stis_003.fits', 'hd93521_stis_002.fits'] \n",
      "\n",
      "HD38949 : \n",
      "\n",
      "['hd38949_stis_004.fits', 'hd38949_mod_001.fits', 'hd38949_stis_002.fits', 'hd38949_stis_003.fits', 'hd38949_stis_001.fits', 'hd38949_mod_002.fits'] \n",
      "\n",
      "KF01T5 : \n",
      "\n",
      "['kf01t5_nic_001.fits', 'kf01t5_nic_003.fits', 'kf01t5_nic_002.fits'] \n",
      "\n",
      "VB8 : \n",
      "\n",
      "['vb8_stisnic_002.fits', 'vb8_stisnic_003.fits', 'vb8_stisnic_004.fits', 'vb8_stisnic_005.fits', 'vb8_stisnic_006.fits', 'vb8_stisnic_001.fits'] \n",
      "\n",
      "GD71_MOD : \n",
      "\n",
      "['gd71_mod_007.fits', 'gd71_mod_010.fits', 'gd71_mod_006.fits', 'gd71_mod_009.fits', 'gd71_mod_005.fits', 'gd71_mod_008.fits'] \n",
      "\n",
      "SNAP-2 : \n",
      "\n",
      "[] \n",
      "\n",
      "BD54D1216 : \n",
      "\n",
      "['bd54d1216_stis_002.fits', 'bd54d1216_stis_003.fits', 'bd54d1216_stis_001.fits'] \n",
      "\n",
      "10LAC : \n",
      "\n",
      "['10lac_mod_001.fits', '10lac_stis_004.fits', '10lac_stis_003.fits', '10lac_stis_002.fits', '10lac_stis_001.fits', '10lac_mod_002.fits'] \n",
      "\n",
      "HD205905 : \n",
      "\n",
      "['hd205905_stis_003.fits', 'hd205905_stis_002.fits', 'hd205905_mod_002.fits', 'hd205905_stis_004.fits', 'hd205905_mod_001.fits', 'hd205905_stis_001.fits'] \n",
      "\n",
      "WD0320-539 : \n",
      "\n",
      "[] \n",
      "\n",
      "FEIGE34 : \n",
      "\n",
      "['feige34_stis_003.fits', 'feige34_stis_002.fits', 'feige34_stis_004.fits', 'feige34_005.fits', 'feige34_stis_001.fits'] \n",
      "\n",
      "BD+28D4211 : \n",
      "\n",
      "[] \n",
      "\n",
      "SF1615001A : \n",
      "\n",
      "['sf1615001a_stisnic_001.fits'] \n",
      "\n",
      "P330E : \n",
      "\n",
      "['p330e_stisnic_001.fits', 'p330e_001.fits', 'p330e_mod_002.fits', 'p330e_stisnic_007.fits', 'p330e_stisnic_006.fits', 'p330e_stis_001.fits', 'p330e_stisnic_005.fits', 'p330e_stisnic_004.fits', 'p330e_stisnic_008.fits', 'p330e_mod_001.fits', 'p330e_stisnic_003.fits', 'p330e_stisnic_002.fits'] \n",
      "\n",
      "ETAUMA : \n",
      "\n",
      "['etauma_stis_002.fits', 'etauma_stis_003.fits', 'etauma_stis_001.fits'] \n",
      "\n",
      "WD0947_857 : \n",
      "\n",
      "['wd0947_857_stis_001.fits', 'wd0947_857_stis_004.fits', 'wd0947_857_stis_002.fits', 'wd0947_857_stis_003.fits'] \n",
      "\n",
      "WD1657_343_MOD : \n",
      "\n",
      "['wd1657_343_mod_001.fits', 'wd1657_343_mod_005.fits', 'wd1657_343_mod_004.fits', 'wd1657_343_mod_003.fits', 'wd1657_343_mod_002.fits'] \n",
      "\n",
      "G191_MOD : \n",
      "\n",
      "[] \n",
      "\n",
      "HZ21 : \n",
      "\n",
      "['hz21_stis_002.fits', 'hz21_stis_003.fits', 'hz21_stis_004.fits', 'hz21_005.fits', 'hz2_005.fits', 'hz21_stis_001.fits'] \n",
      "\n",
      "2M003618 : \n",
      "\n",
      "['2m003618_stisnic_006.fits', '2m003618_stisnic_001.fits', '2m003618_stisnic_003.fits', '2m003618_stisnic_002.fits', '2m003618_stisnic_005.fits', '2m003618_stisnic_004.fits'] \n",
      "\n",
      "BD+17D4708 : \n",
      "\n",
      "['bd17d4708_stis_001.fits', 'bd17d4708_stisnic_001.fits'] \n",
      "\n",
      "GD108 : \n",
      "\n",
      "['gd108_005.fits'] \n",
      "\n",
      "1732526 : \n",
      "\n",
      "['1732526_nic_002.fits', '1732526_stisnic_001.fits', '1732526_mod_001.fits', '1732526_stisnic_004.fits', '1732526_mod_002.fits', '1732526_stisnic_002.fits', '1732526_stisnic_003.fits'] \n",
      "\n",
      "1812095 : \n",
      "\n",
      "['1812095_nic_002.fits', '1812095_stisnic_001.fits', '1812095_mod_001.fits', '1812095_stisnic_003.fits', '1812095_stisnic_002.fits', '1812095_mod_002.fits', '1812095_stisnic_004.fits', '1812095_nic_001.fits'] \n",
      "\n",
      "HD111980 : \n",
      "\n",
      "['hd111980_stis_001.fits', 'hd111980_stis_003.fits', 'hd111980_stis_002.fits'] \n",
      "\n",
      "HD009051 : \n",
      "\n",
      "['hd009051_stis_003.fits', 'hd009051_stis_002.fits', 'hd009051_stis_001.fits'] \n",
      "\n",
      "HD180609 : \n",
      "\n",
      "['hd180609_stis_002.fits', 'hd180609_stis_003.fits', 'hd180609_mod_002.fits', 'hd180609_stis_004.fits', 'hd180609_mod_001.fits', 'hd180609_stis_001.fits'] \n",
      "\n",
      "SUN_REFERENCE : \n",
      "\n",
      "['sun_reference_001.fits', 'sun_reference_stis_002.fits', 'sun_reference_stis_001.fits'] \n",
      "\n",
      "NGC7293 : \n",
      "\n",
      "['ngc7293_005.fits'] \n",
      "\n",
      "WD1057_719 : \n",
      "\n",
      "['wd1057_719_mod_004.fits', 'wd1057_719_stisnic_001.fits', 'wd1057_719_mod_005.fits', 'wd1057_719_mod_002.fits', 'wd1057_719_mod_003.fits', 'wd1057_719_stisnic_006.fits', 'wd1057_719_stisnic_005.fits', 'wd1057_719_mod_001.fits', 'wd1057_719_stisnic_004.fits', 'wd1057_719_stisnic_003.fits', 'wd1057_719_stisnic_002.fits'] \n",
      "\n",
      "1805292 : \n",
      "\n",
      "['1805292_nic_002.fits', '1805292_stisnic_001.fits', '1805292_mod_001.fits', '1805292_mod_002.fits', '1805292_stisnic_004.fits', '1805292_stisnic_003.fits', '1805292_nic_001.fits', '1805292_stisnic_002.fits'] \n",
      "\n",
      "ALPHA_LYR : \n",
      "\n",
      "['alpha_lyr_stis_002.fits', 'alpha_lyr_stis_003.fits', 'alpha_lyr_stis_004.fits', 'alpha_lyr_stis_008.fits', 'alpha_lyr_stis_005.fits', 'alpha_lyr_mod_002.fits', 'alpha_lyr_stis_006.fits', 'alpha_lyr_mod_001.fits', 'alpha_lyr_stis_007.fits', 'alpha_lyr_004.fits', 'alpha_lyr_005.fits'] \n",
      "\n",
      "WD0308_565_MOD : \n",
      "\n",
      "['wd0308_565_mod_002.fits', 'wd0308_565_mod_003.fits', 'wd0308_565_mod_001.fits'] \n",
      "\n",
      "WD1657+343 : \n",
      "\n",
      "[] \n",
      "\n",
      "BD+25D4655 : \n",
      "\n",
      "[] \n",
      "\n",
      "HD165459 : \n",
      "\n",
      "['hd165459_mod_002.fits', 'hd165459_stisnic_001.fits', 'hd165459_stisnic_002.fits', 'hd165459_mod_001.fits', 'hd165459_stisnic_003.fits', 'hd165459_stisnic_004.fits', 'hd165459_nic_002.fits'] \n",
      "\n",
      "GD153 : \n",
      "\n",
      "['gd153_mod_007.fits', 'gd153_stisnic_002.fits', 'gd153_stisnic_003.fits', 'gd153_mod_010.fits', 'gd153_stisnic_004.fits', 'gd153_stisnic_005.fits', 'gd153_stisnic_006.fits', 'gd153_mod_005.fits', 'gd153_fos_003.fits', 'gd153_mod_009.fits', 'gd153_mod_008.fits', 'gd153_stis_001.fits', 'gd153_stisnic_001.fits', 'gd153_mod_004.fits'] \n",
      "\n",
      "C26202 : \n",
      "\n",
      "['c26202_stisnic_004.fits', 'c26202_stisnic_005.fits', 'c26202_stisnic_002.fits', 'c26202_mod_002.fits', 'c26202_stisnic_003.fits', 'c26202_mod_001.fits', 'c26202_stisnic_001.fits', 'c26202_stisnic_006.fits', 'c26202_stisnic_007.fits'] \n",
      "\n",
      "BD26D2606 : \n",
      "\n",
      "['bd26d2606_stis_001.fits', 'bd26d2606_stis_002.fits', 'bd26d2606_stis_003.fits'] \n",
      "\n",
      "BD29D2091 : \n",
      "\n",
      "['bd29d2091_stis_002.fits', 'bd29d2091_stis_003.fits', 'bd29d2091_stis_001.fits'] \n",
      "\n",
      "HD074000 : \n",
      "\n",
      "['hd074000_stis_002.fits', 'hd074000_stis_003.fits', 'hd074000_stis_001.fits'] \n",
      "\n"
     ]
    }
   ],
   "source": [
    "StarDict= {}\n",
    "for star in star_names_set:\n",
    "    print star,': \\n'\n",
    "    star_set_of_file= []\n",
    "    tag_upper='^'+star.upper()+'*'\n",
    "    tag_lower='^'+star.lower()+'*'\n",
    "    for thefile in fits_files:\n",
    "        if re.search(tag_upper,thefile) or re.search(tag_lower,thefile):         \n",
    "            star_set_of_file.append(thefile)\n",
    "    #StarDict[star]=sorted(star_set_of_file,key=star_names.count,reverse=True)\n",
    "    StarDict[star]=sorted(star_set_of_file,key=star_names.count)\n",
    "    print StarDict[star] ,'\\n'\n",
    "    \n",
    "            \n",
    "    "
   ]
  },
  {
   "cell_type": "markdown",
   "metadata": {},
   "source": [
    "## Plot the SED"
   ]
  },
  {
   "cell_type": "code",
   "execution_count": null,
   "metadata": {},
   "outputs": [
    {
     "name": "stdout",
     "output_type": "stream",
     "text": [
      "Warning, 38 of 1353 bins contained negative fluxes; they have been set to zero.\n",
      "Warning, 9 of 2064 bins contained negative fluxes; they have been set to zero.\n",
      "Warning, 38 of 1353 bins contained negative fluxes; they have been set to zero.\n",
      "Warning, 3 of 7208 bins contained negative fluxes; they have been set to zero.\n",
      "Warning, 44 of 4685 bins contained negative fluxes; they have been set to zero.\n",
      "Warning, 19 of 3740 bins contained negative fluxes; they have been set to zero.\n"
     ]
    }
   ],
   "source": [
    "for keystar in StarDict:\n",
    "    the_files=StarDict[keystar]\n",
    "    if(len(the_files))>0 and keystar != 'SUN_REFERENCE':\n",
    "        #print sorted(the_files,reverse=True)\n",
    "        \n",
    "        selected_file=the_files[0]\n",
    "        selected_fullfile=os.path.join(SEDfile_dir,selected_file)\n",
    "        \n",
    "        sed=S.FileSpectrum(selected_fullfile)\n",
    "        \n",
    "        plt.semilogy(sed.wave,sed.flux,label=keystar)\n",
    "        plt.xlim(0, 12000)\n",
    "        plt.ylim(1e-23, 1e-6)\n",
    "        plt.xlabel(sed.waveunits)\n",
    "        plt.ylabel(sed.fluxunits)\n",
    "        plt.grid(True)\n",
    "        plt.legend(loc='best')\n",
    "#    plt.title(os.path.basename(S.Vega.name))\n",
    "    plt.title(\"CALSPEC Stars\")\n",
    "    plt.savefig(\"calspec.png\")"
   ]
  },
  {
   "cell_type": "code",
   "execution_count": null,
   "metadata": {
    "collapsed": true
   },
   "outputs": [],
   "source": []
  }
 ],
 "metadata": {
  "kernelspec": {
   "display_name": "Python 2",
   "language": "python",
   "name": "python2"
  },
  "language_info": {
   "codemirror_mode": {
    "name": "ipython",
    "version": 2
   },
   "file_extension": ".py",
   "mimetype": "text/x-python",
   "name": "python",
   "nbconvert_exporter": "python",
   "pygments_lexer": "ipython2",
   "version": "2.7.13"
  },
  "toc": {
   "nav_menu": {},
   "number_sections": true,
   "sideBar": true,
   "skip_h1_title": false,
   "toc_cell": false,
   "toc_position": {},
   "toc_section_display": "block",
   "toc_window_display": false
  }
 },
 "nbformat": 4,
 "nbformat_minor": 2
}
