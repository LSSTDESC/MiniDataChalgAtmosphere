{
 "cells": [
  {
   "cell_type": "markdown",
   "metadata": {},
   "source": [
    "# The purpose is to show the k93 standards"
   ]
  },
  {
   "cell_type": "markdown",
   "metadata": {},
   "source": [
    "## Definitions of the libraries"
   ]
  },
  {
   "cell_type": "code",
   "execution_count": 1,
   "metadata": {
    "collapsed": true
   },
   "outputs": [],
   "source": [
    "import numpy as np\n",
    "# Set up matplotlib and use a nicer set of plot parameters\n",
    "import matplotlib\n",
    "import matplotlib.pyplot as plt\n",
    "%matplotlib inline"
   ]
  },
  {
   "cell_type": "code",
   "execution_count": 2,
   "metadata": {
    "collapsed": true
   },
   "outputs": [],
   "source": [
    "import astropy\n",
    "from astropy.io import fits\n",
    "from astropy.coordinates import SkyCoord, EarthLocation, AltAz"
   ]
  },
  {
   "cell_type": "code",
   "execution_count": 3,
   "metadata": {
    "collapsed": true
   },
   "outputs": [],
   "source": [
    "import pandas as pd\n",
    "import os\n",
    "import re"
   ]
  },
  {
   "cell_type": "code",
   "execution_count": 4,
   "metadata": {
    "collapsed": true
   },
   "outputs": [],
   "source": [
    "from astroquery.simbad import Simbad"
   ]
  },
  {
   "cell_type": "code",
   "execution_count": 5,
   "metadata": {
    "collapsed": true
   },
   "outputs": [],
   "source": [
    "# to enlarge the sizes\n",
    "params = {'legend.fontsize': 'x-large',\n",
    "          'figure.figsize': (15, 8),\n",
    "         'axes.labelsize': 'x-large',\n",
    "         'axes.titlesize':'x-large',\n",
    "         'xtick.labelsize':'x-large',\n",
    "         'ytick.labelsize':'x-large'}\n",
    "plt.rcParams.update(params)"
   ]
  },
  {
   "cell_type": "code",
   "execution_count": 6,
   "metadata": {
    "collapsed": true
   },
   "outputs": [],
   "source": [
    "top_pysynphot_data_dir=os.environ['PYSYN_CDBS']"
   ]
  },
  {
   "cell_type": "code",
   "execution_count": 7,
   "metadata": {
    "collapsed": true
   },
   "outputs": [],
   "source": [
    "import pysynphot as S\n",
    "S.primary_area=6*1e4\n",
    "S.binning=10."
   ]
  },
  {
   "cell_type": "markdown",
   "metadata": {},
   "source": [
    "## Defines where are the data"
   ]
  },
  {
   "cell_type": "code",
   "execution_count": 8,
   "metadata": {
    "collapsed": true
   },
   "outputs": [],
   "source": [
    "dir_star='calspec'\n",
    "dir_nostar='grid'"
   ]
  },
  {
   "cell_type": "code",
   "execution_count": 9,
   "metadata": {
    "collapsed": true
   },
   "outputs": [],
   "source": [
    "dir_submodels=['agn','bpgs','extinction','jacobi','phoenix','bc95','bz77','galactic',\\\n",
    "               'k93models','pickles','bkmodels','ck04models','gunnstryker','kc96']"
   ]
  },
  {
   "cell_type": "markdown",
   "metadata": {},
   "source": [
    "## where are the files"
   ]
  },
  {
   "cell_type": "code",
   "execution_count": 10,
   "metadata": {
    "collapsed": true
   },
   "outputs": [],
   "source": [
    "SEDfile_dir=os.path.join(top_pysynphot_data_dir,dir_nostar,dir_submodels[8],'standards')"
   ]
  },
  {
   "cell_type": "code",
   "execution_count": 11,
   "metadata": {
    "collapsed": true
   },
   "outputs": [],
   "source": [
    "filelist=os.listdir(SEDfile_dir) "
   ]
  },
  {
   "cell_type": "code",
   "execution_count": 12,
   "metadata": {
    "collapsed": true
   },
   "outputs": [],
   "source": [
    "fits_files = [f for f in os.listdir(SEDfile_dir) if f.endswith('.fits')]"
   ]
  },
  {
   "cell_type": "code",
   "execution_count": 13,
   "metadata": {},
   "outputs": [
    {
     "data": {
      "text/plain": [
       "['sun.fits',\n",
       " 'sun_castelli.fits',\n",
       " 'sun_kurucz93.fits',\n",
       " 'sun_reference.fits',\n",
       " 'vega.fits',\n",
       " 'vega_c95.fits',\n",
       " 'vega_k93.fits',\n",
       " 'vega_reference.fits']"
      ]
     },
     "execution_count": 13,
     "metadata": {},
     "output_type": "execute_result"
    }
   ],
   "source": [
    "fits_files"
   ]
  },
  {
   "cell_type": "code",
   "execution_count": 14,
   "metadata": {
    "collapsed": true
   },
   "outputs": [],
   "source": [
    "#fits_files.remove('jspectype.fits')"
   ]
  },
  {
   "cell_type": "markdown",
   "metadata": {},
   "source": [
    "## Find the star-names in the files"
   ]
  },
  {
   "cell_type": "code",
   "execution_count": 15,
   "metadata": {
    "collapsed": true
   },
   "outputs": [],
   "source": [
    "obj_headers = []\n",
    "obj_files = []\n",
    "for filename in fits_files:\n",
    "    index=0\n",
    "    if re.search('fits',filename):  #example of filename filter\n",
    "        index+=1\n",
    "        fullfilename = os.path.join(SEDfile_dir,filename)\n",
    "        hdr = fits.getheader(fullfilename)\n",
    "        obj_headers.append(hdr)\n",
    "        obj_files.append(filename)"
   ]
  },
  {
   "cell_type": "code",
   "execution_count": 16,
   "metadata": {},
   "outputs": [
    {
     "data": {
      "text/plain": [
       "SIMPLE  =                    T / file does conform to FITS standard             \n",
       "BITPIX  =                   16 / number of bits per data pixel                  \n",
       "NAXIS   =                    0 / number of data axes                            \n",
       "EXTEND  =                    T / FITS dataset may contain extensions            \n",
       "COMMENT   FITS (Flexible Image Transport System) format defined in Astronomy and\n",
       "COMMENT   Astrophysics Supplement Series v44/p363, v44/p371, v73/p359, v73/p365.\n",
       "COMMENT   Contact the NASA Science Office of Standards and Technology for the   \n",
       "COMMENT   FITS Definition document #100 and other FITS information.             \n",
       "ORIGIN  = 'STScI-STSDAS/TABLES' / Tables version 1999-03-22                     \n",
       "FILENAME= 'sun.fits'           / name of file                                   \n",
       "HISTORY   Kurucz model atmospheres (1993)                                       \n",
       "TEFF    =                 5777                                                  \n",
       "LOG_G   =         4.437700E+00                                                  \n",
       "LOG_Z   = 0.00000000000000E+00                                                  \n",
       "V       = -1.73336000000000E+01                                                 \n",
       "BV      = 6.71000000000000E-01                                                  \n",
       "UB      = 1.70000000000000E-01                                                  \n",
       "NLYC    = 0.00000000000000E+00                                                  \n",
       "NHE     = 0.00000000000000E+00                                                  \n",
       "BOL_CORR= -1.93000000000000E-01                                                 \n",
       "U_B     =         1.624000E+00                                                  \n",
       "B_Y     = 4.10000000000000E-01                                                  \n",
       "M1      = 2.56000000000000E-01                                                  \n",
       "C1      = 2.89000000000000E-01                                                  \n",
       "STROM_U = -1.63690000000000E+01                                                 \n",
       "STROM_U0= -1.63480000000000E+01                                                 \n",
       "STROM_V = -1.69530000000000E+01                                                 \n",
       "STROM_B = -1.71910000000000E+01                                                 \n",
       "STROM_Y = -1.71010000000000E+01                                                 \n",
       "U       = -1.64500000000000E+01                                                 "
      ]
     },
     "execution_count": 16,
     "metadata": {},
     "output_type": "execute_result"
    }
   ],
   "source": [
    "obj_headers[0]"
   ]
  },
  {
   "cell_type": "code",
   "execution_count": 17,
   "metadata": {
    "collapsed": true
   },
   "outputs": [],
   "source": [
    "#obj_names = []\n",
    "#index=0\n",
    "#for hdr in obj_headers: \n",
    "#        obj_name=obj_headers[index]['TARGETID']\n",
    "#        obj_names.append(obj_name)\n",
    "#        index+=1"
   ]
  },
  {
   "cell_type": "code",
   "execution_count": 18,
   "metadata": {
    "collapsed": true
   },
   "outputs": [],
   "source": [
    "#obj_names"
   ]
  },
  {
   "cell_type": "code",
   "execution_count": 19,
   "metadata": {},
   "outputs": [
    {
     "data": {
      "text/plain": [
       "['sun.fits',\n",
       " 'sun_castelli.fits',\n",
       " 'sun_kurucz93.fits',\n",
       " 'sun_reference.fits',\n",
       " 'vega.fits']"
      ]
     },
     "execution_count": 19,
     "metadata": {},
     "output_type": "execute_result"
    }
   ],
   "source": [
    "fits_files[:5]"
   ]
  },
  {
   "cell_type": "code",
   "execution_count": 20,
   "metadata": {
    "collapsed": true
   },
   "outputs": [],
   "source": [
    "obj_names2 = []\n",
    "index=0\n",
    "for thefile in fits_files:\n",
    "    #thenames=re.findall('^bk_([a-z][0-9]+).fits$',thefile)\n",
    "    thenames=re.findall('^(.*).fits$',thefile) \n",
    "    if(len(thenames)>0):\n",
    "        obj_names2.append(thenames[0])\n",
    "    else:\n",
    "        print 'bad file ',thefile\n",
    "    index+=1"
   ]
  },
  {
   "cell_type": "code",
   "execution_count": 21,
   "metadata": {},
   "outputs": [
    {
     "name": "stdout",
     "output_type": "stream",
     "text": [
      "['sun', 'sun_castelli', 'sun_kurucz93', 'sun_reference', 'vega', 'vega_c95', 'vega_k93', 'vega_reference']\n"
     ]
    }
   ],
   "source": [
    "print obj_names2"
   ]
  },
  {
   "cell_type": "code",
   "execution_count": 22,
   "metadata": {
    "collapsed": true
   },
   "outputs": [],
   "source": [
    "obj_names=obj_names2"
   ]
  },
  {
   "cell_type": "code",
   "execution_count": 23,
   "metadata": {},
   "outputs": [
    {
     "name": "stdout",
     "output_type": "stream",
     "text": [
      "['sun.fits', 'sun_castelli.fits', 'sun_kurucz93.fits', 'sun_reference.fits', 'vega.fits', 'vega_c95.fits', 'vega_k93.fits', 'vega_reference.fits']\n"
     ]
    }
   ],
   "source": [
    "print obj_files"
   ]
  },
  {
   "cell_type": "code",
   "execution_count": 24,
   "metadata": {
    "collapsed": true
   },
   "outputs": [],
   "source": [
    "objames_and_objfiles = zip(obj_names, obj_files)"
   ]
  },
  {
   "cell_type": "markdown",
   "metadata": {},
   "source": [
    "## Make a dictionary of filenames"
   ]
  },
  {
   "cell_type": "code",
   "execution_count": 25,
   "metadata": {},
   "outputs": [
    {
     "name": "stdout",
     "output_type": "stream",
     "text": [
      "sun : \n",
      "sun.fits\n",
      "sun_castelli : \n",
      "sun_castelli.fits\n",
      "sun_kurucz93 : \n",
      "sun_kurucz93.fits\n",
      "sun_reference : \n",
      "sun_reference.fits\n",
      "vega : \n",
      "vega.fits\n",
      "vega_c95 : \n",
      "vega_c95.fits\n",
      "vega_k93 : \n",
      "vega_k93.fits\n",
      "vega_reference : \n",
      "vega_reference.fits\n"
     ]
    }
   ],
   "source": [
    "OBJDict= {}\n",
    "for obj,thefile in objames_and_objfiles:\n",
    "    print obj,': '\n",
    "    OBJDict[obj]=thefile\n",
    "    print OBJDict[obj] "
   ]
  },
  {
   "cell_type": "markdown",
   "metadata": {},
   "source": [
    "## Plot the SED"
   ]
  },
  {
   "cell_type": "code",
   "execution_count": 26,
   "metadata": {},
   "outputs": [
    {
     "data": {
      "image/png": "[encoded data removed]",
      "text/plain": [
       "<matplotlib.figure.Figure at 0x113bb5e10>"
      ]
     },
     "metadata": {},
     "output_type": "display_data"
    }
   ],
   "source": [
    "for keyobj in OBJDict:\n",
    "    the_file=OBJDict[keyobj]\n",
    "        \n",
    "    selected_file=the_file\n",
    "    selected_fullfile=os.path.join(SEDfile_dir,selected_file)\n",
    "        \n",
    "    sed=S.FileSpectrum(selected_fullfile)\n",
    "        \n",
    "    plt.semilogy(sed.wave,sed.flux,label=keyobj)\n",
    "    plt.xlim(0, 12000)\n",
    "    #plt.ylim(1e-23, 1e-6)\n",
    "    plt.xlabel(sed.waveunits)\n",
    "    plt.ylabel(sed.fluxunits)\n",
    "    plt.grid(True)\n",
    "    plt.legend(loc='best')\n",
    "#    plt.title(os.path.basename(S.Vega.name))\n",
    "    plt.title(\"k93 standards models\")\n",
    "    plt.savefig(\"k93-standards.png\")"
   ]
  },
  {
   "cell_type": "code",
   "execution_count": null,
   "metadata": {
    "collapsed": true
   },
   "outputs": [],
   "source": []
  }
 ],
 "metadata": {
  "kernelspec": {
   "display_name": "Python 2",
   "language": "python",
   "name": "python2"
  },
  "language_info": {
   "codemirror_mode": {
    "name": "ipython",
    "version": 2
   },
   "file_extension": ".py",
   "mimetype": "text/x-python",
   "name": "python",
   "nbconvert_exporter": "python",
   "pygments_lexer": "ipython2",
   "version": "2.7.13"
  },
  "toc": {
   "nav_menu": {},
   "number_sections": true,
   "sideBar": true,
   "skip_h1_title": false,
   "toc_cell": false,
   "toc_position": {},
   "toc_section_display": "block",
   "toc_window_display": false
  }
 },
 "nbformat": 4,
 "nbformat_minor": 2
}
